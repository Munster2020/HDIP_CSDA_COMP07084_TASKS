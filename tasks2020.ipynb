{
 "cells": [
  {
   "cell_type": "markdown",
   "metadata": {},
   "source": [
    "![](GMIT_Logo.jpg)\n",
    "\n",
    "# Higher Diploma in Science in Computing (Data Analytics)\n",
    "#### Programme Module: Fundamentals of Data Analysis (COMP07084) \n",
    "---"
   ]
  },
  {
   "cell_type": "markdown",
   "metadata": {},
   "source": [
    "## Table of contents"
   ]
  },
  {
   "cell_type": "markdown",
   "metadata": {
    "toc": true
   },
   "source": [
    "<h1><span class=\"tocSkip\"></span></h1>\n",
    "<div class=\"toc\"><ul class=\"toc-item\"><li><span><a href=\"#Higher-Diploma-in-Science-in-Computing-(Data-Analytics)\" data-toc-modified-id=\"Higher-Diploma-in-Science-in-Computing-(Data-Analytics)-1\">Higher Diploma in Science in Computing (Data Analytics)</a></span><ul class=\"toc-item\"><li><ul class=\"toc-item\"><li><ul class=\"toc-item\"><li><span><a href=\"#Programme-Module:-Fundamentals-of-Data-Analysis-(COMP07084)\" data-toc-modified-id=\"Programme-Module:-Fundamentals-of-Data-Analysis-(COMP07084)-1.0.0.1\">Programme Module: Fundamentals of Data Analysis (COMP07084)</a></span></li></ul></li></ul></li><li><span><a href=\"#Table-of-contents\" data-toc-modified-id=\"Table-of-contents-1.1\">Table of contents</a></span></li><li><span><a href=\"#Task-1---counts\" data-toc-modified-id=\"Task-1---counts-1.2\">Task 1 - counts</a></span></li><li><span><a href=\"#1.-Solution\" data-toc-modified-id=\"1.-Solution-1.3\">1. Solution</a></span></li><li><span><a href=\"#2.-Explanation\" data-toc-modified-id=\"2.-Explanation-1.4\">2. Explanation</a></span><ul class=\"toc-item\"><li><ul class=\"toc-item\"><li><span><a href=\"#2.1-Function\" data-toc-modified-id=\"2.1-Function-1.4.0.1\">2.1 Function</a></span></li><li><span><a href=\"#2.2-Dictionary\" data-toc-modified-id=\"2.2-Dictionary-1.4.0.2\">2.2 Dictionary</a></span></li><li><span><a href=\"#2.3-For-Loop\" data-toc-modified-id=\"2.3-For-Loop-1.4.0.3\">2.3 For Loop</a></span></li><li><span><a href=\"#2.4-Keys-and-Values\" data-toc-modified-id=\"2.4-Keys-and-Values-1.4.0.4\">2.4 Keys and Values</a></span></li><li><span><a href=\"#2.5-List\" data-toc-modified-id=\"2.5-List-1.4.0.5\">2.5 List</a></span></li></ul></li></ul></li><li><span><a href=\"#3.-References\" data-toc-modified-id=\"3.-References-1.5\">3. References</a></span></li><li><span><a href=\"#Task-2---dicerolls\" data-toc-modified-id=\"Task-2---dicerolls-1.6\">Task 2 - dicerolls</a></span></li><li><span><a href=\"#1.-Solution\" data-toc-modified-id=\"1.-Solution-1.7\">1. Solution</a></span></li><li><span><a href=\"#2.-Explanation\" data-toc-modified-id=\"2.-Explanation-1.8\">2. Explanation</a></span><ul class=\"toc-item\"><li><ul class=\"toc-item\"><li><span><a href=\"#2.1-Numpy-library-and-random-number-generator\" data-toc-modified-id=\"2.1-Numpy-library-and-random-number-generator-1.8.0.1\">2.1 Numpy library and random number generator</a></span></li><li><span><a href=\"#2.2-Function\" data-toc-modified-id=\"2.2-Function-1.8.0.2\">2.2 Function</a></span></li><li><span><a href=\"#2.3-For-Loop\" data-toc-modified-id=\"2.3-For-Loop-1.8.0.3\">2.3 For Loop</a></span></li><li><span><a href=\"#2.4-Keys-and-Values\" data-toc-modified-id=\"2.4-Keys-and-Values-1.8.0.4\">2.4 Keys and Values</a></span></li></ul></li></ul></li><li><span><a href=\"#3.-References\" data-toc-modified-id=\"3.-References-1.9\">3. References</a></span></li><li><span><a href=\"#Task-3---numpy.random.binomial\" data-toc-modified-id=\"Task-3---numpy.random.binomial-1.10\">Task 3 - numpy.random.binomial</a></span></li><li><span><a href=\"#1.-Solution\" data-toc-modified-id=\"1.-Solution-1.11\">1. Solution</a></span></li><li><span><a href=\"#2.-Explanation\" data-toc-modified-id=\"2.-Explanation-1.12\">2. Explanation</a></span><ul class=\"toc-item\"><li><ul class=\"toc-item\"><li><span><a href=\"#2.1-Import-required-libraries\" data-toc-modified-id=\"2.1-Import-required-libraries-1.12.0.1\">2.1 Import required libraries</a></span></li><li><span><a href=\"#2.2-Random-binomial\" data-toc-modified-id=\"2.2-Random-binomial-1.12.0.2\">2.2 Random binomial</a></span></li><li><span><a href=\"#2.3-View-the-outcome\" data-toc-modified-id=\"2.3-View-the-outcome-1.12.0.3\">2.3 View the outcome</a></span></li><li><span><a href=\"#2.4-Visualize-the-results\" data-toc-modified-id=\"2.4-Visualize-the-results-1.12.0.4\">2.4 Visualize the results</a></span></li></ul></li></ul></li><li><span><a href=\"#3.-References\" data-toc-modified-id=\"3.-References-1.13\">3. References</a></span></li><li><span><a href=\"#Task-4---Simpon's-paradox\" data-toc-modified-id=\"Task-4---Simpon's-paradox-1.14\">Task 4 - Simpon's paradox</a></span></li><li><span><a href=\"#1.-Solution\" data-toc-modified-id=\"1.-Solution-1.15\">1. Solution</a></span><ul class=\"toc-item\"><li><ul class=\"toc-item\"><li><span><a href=\"#1.1-Import-required-libraries\" data-toc-modified-id=\"1.1-Import-required-libraries-1.15.0.1\">1.1 Import required libraries</a></span></li><li><span><a href=\"#1.2-Create-first-dataset\" data-toc-modified-id=\"1.2-Create-first-dataset-1.15.0.2\">1.2 Create first dataset</a></span></li><li><span><a href=\"#1.3-Create-second-dataset\" data-toc-modified-id=\"1.3-Create-second-dataset-1.15.0.3\">1.3 Create second dataset</a></span></li><li><span><a href=\"#1.4-Create-third-dataset\" data-toc-modified-id=\"1.4-Create-third-dataset-1.15.0.4\">1.4 Create third dataset</a></span></li><li><span><a href=\"#1.5-Create-fourth-dataset\" data-toc-modified-id=\"1.5-Create-fourth-dataset-1.15.0.5\">1.5 Create fourth dataset</a></span></li><li><span><a href=\"#1.6-Concatenate-the--datasets\" data-toc-modified-id=\"1.6-Concatenate-the--datasets-1.15.0.6\">1.6 Concatenate the  datasets</a></span></li><li><span><a href=\"#1.7-Plotting\" data-toc-modified-id=\"1.7-Plotting-1.15.0.7\">1.7 Plotting</a></span></li></ul></li></ul></li><li><span><a href=\"#2.-References\" data-toc-modified-id=\"2.-References-1.16\">2. References</a></span></li></ul></li></ul></div>"
   ]
  },
  {
   "cell_type": "markdown",
   "metadata": {},
   "source": [
    "---\n",
    "\n",
    "## Task 1 - counts\n",
    "\n",
    "Write a Python function called counts that takes a list as input and returns a dictionary of unique items in the list as keys and the number of times each item appears as values.  So, the input ['A','A','B','C','A'] should have output {'A': 3,'B': 1,'C': 1}.  \n",
    "\n",
    "Your code should not depend on any module from the standard library or otherwise.   You should research he task first and include a description with references of your algorithm in the notebook."
   ]
  },
  {
   "cell_type": "markdown",
   "metadata": {},
   "source": [
    "<div class=\"alert alert-block alert-info\"><b>Addendum: </b> We were also asked to see if we could create a solution that could could use not just strings in the input but also integers or floats. </div> "
   ]
  },
  {
   "cell_type": "markdown",
   "metadata": {},
   "source": [
    "<div class=\"alert alert-block alert-info\"><b>Clarification: </b> You cannot use any part of the standard library that has to be imported. The Python documentation technically includes the built-in, non-language features in the standard library - even though they do not need to be imported: https://docs.python.org/3/library/. You can use any of these built-in features - just not anything you need to import. </div> "
   ]
  },
  {
   "cell_type": "markdown",
   "metadata": {},
   "source": [
    "---"
   ]
  },
  {
   "cell_type": "markdown",
   "metadata": {},
   "source": [
    "## 1. Solution\n",
    "\n",
    "In order to solve this task I did some initial research looking for sample code that would provide a solution. After a few hours I had sourced five code samples before deciding on one from geeksforgeeks.org [2]. \n",
    "\n",
    "I modified the input to check how the function would deal with integers and floats as well. Initally the code failed, this I found out was due to a format issue.\n",
    "\n",
    "In Python the `%` operator is used to format a set of variables enclosed in a \"tuple\" (a fixed size list), together with a format string, which contains normal text together with \"argument specifiers\", special symbols like `%s` and `%d`. So in this case I had to change the original code from `%d` to `%s`. [5]"
   ]
  },
  {
   "cell_type": "code",
   "execution_count": 1,
   "metadata": {
    "ExecuteTime": {
     "end_time": "2020-12-07T17:02:34.767987Z",
     "start_time": "2020-12-07T17:02:34.756575Z"
    }
   },
   "outputs": [],
   "source": [
    "# define the function\n",
    "def counts(my_list):\n",
    "\n",
    "    # create a blank dictionary\n",
    "    freq = {}\n",
    "\n",
    "# create for loop\n",
    "    for item in my_list:\n",
    "        if (item in freq):\n",
    "            freq[item] += 1\n",
    "        else:\n",
    "            freq[item] = 1\n",
    "\n",
    "# iterate over key/value pairs in dictionary and print them\n",
    "    for key, value in freq.items():\n",
    "        print(\"% s : % s\" % (key, value))\n",
    "\n",
    "\n",
    "# list of items to count\n",
    "my_list = ['A', 'A', 'B', 'C', 'A', 1, 2, 3, 2, 'python', 4.5, 6.5, 'B']"
   ]
  },
  {
   "cell_type": "markdown",
   "metadata": {},
   "source": [
    "Lets have a look at the output of the function."
   ]
  },
  {
   "cell_type": "code",
   "execution_count": 2,
   "metadata": {
    "ExecuteTime": {
     "end_time": "2020-12-07T17:02:34.783157Z",
     "start_time": "2020-12-07T17:02:34.771367Z"
    }
   },
   "outputs": [
    {
     "name": "stdout",
     "output_type": "stream",
     "text": [
      "A : 3\n",
      "B : 2\n",
      "C : 1\n",
      "1 : 1\n",
      "2 : 2\n",
      "3 : 1\n",
      "python : 1\n",
      "4.5 : 1\n",
      "6.5 : 1\n"
     ]
    }
   ],
   "source": [
    "counts(my_list)"
   ]
  },
  {
   "cell_type": "markdown",
   "metadata": {},
   "source": [
    "---\n",
    "## 2. Explanation\n",
    "\n",
    "#### 2.1 Function\n",
    "I've outlined below how the algorithm works and broken it in to sections for ease of use. First up was to define the function.\n",
    "\n",
    "```python\n",
    " def counts(my_list):\n",
    "```\n",
    "\n",
    "A function in Python is defined using the `def` keyword. A function is a block of code which only runs when it is called. You can pass data, known as parameters, into a function. A function can return data as a result. In this example the function is called `counts`. Information can be passed into functions as arguments. Arguments are specified after the function name, inside the parentheses. You can add as many arguments as you want, just separate them with a comma. In this function we have one argument called `(my_list)`."
   ]
  },
  {
   "cell_type": "markdown",
   "metadata": {},
   "source": [
    "<div class=\"alert alert-block alert-info\"><b>Additional information: A function definition defines a user-defined function object. If you are looking for more detail on functions you can run the  help('def') statement in your own Jupyter notebook. </div>"
   ]
  },
  {
   "cell_type": "markdown",
   "metadata": {
    "ExecuteTime": {
     "end_time": "2020-11-25T09:05:06.365910Z",
     "start_time": "2020-11-25T09:05:06.350043Z"
    }
   },
   "source": [
    "#### 2.2 Dictionary\n",
    "The code also creates a dictionary called `freq`. A dictionary is a collection which is unordered, changeable and indexed. In Python dictionaries are written with curly brackets, and they have keys and values.\n",
    "\n",
    "```python\n",
    "    freq = {}\n",
    "```\n",
    "\n",
    "It is best to think of a dictionary as a set of key: value pairs, with the requirement that the keys are unique (within one dictionary). Placing a comma-separated list of key:value pairs within the braces adds initial key:value pairs to the dictionary; this is also the way dictionaries are written on output.[6]"
   ]
  },
  {
   "cell_type": "markdown",
   "metadata": {},
   "source": [
    "<div class=\"alert alert-block alert-info\"><b>Additional information: If you are looking for more detail on dictionaries(dicts) you can run the  help('dict') statement in your own Jupyter notebook. </div>"
   ]
  },
  {
   "cell_type": "markdown",
   "metadata": {},
   "source": [
    "#### 2.3 For Loop\n",
    "Next up the code uses a for loop to iterate over each item in the list. At each iteration, check if item is in an initially empty dictionary. If it is, use dictionary `item` += 1 to add 1 to the value to which item maps. Otherwise, use dictionary `item` = 1 to add item to dictionary with the value 1. The `items()` method is used to return the list with all dictionary keys with values. [8]\n",
    "\n",
    "```python\n",
    "for item in my_list:\n",
    "        if (item in freq):\n",
    "            freq[item] += 1\n",
    "        else:\n",
    "            freq[item] = 1\n",
    "```"
   ]
  },
  {
   "cell_type": "markdown",
   "metadata": {},
   "source": [
    "<div class=\"alert alert-block alert-info\"><b>Additional information: The \"for\" statement is used to iterate over the elements of a sequence (such as a string, tuple or list) or other iterable object. If you are looking for more detail on for loops you can run the  help('for') statement in your own Jupyter notebook. </div>"
   ]
  },
  {
   "cell_type": "markdown",
   "metadata": {},
   "source": [
    "#### 2.4 Keys and Values\n",
    "The next section captures the items as the keys of the dictionary `freq` and their frequencies as the values.\n",
    "```python\n",
    "    for key, value in freq.items():\n",
    "        print (\"% s : % s\"%(key, value))\n",
    "```"
   ]
  },
  {
   "cell_type": "markdown",
   "metadata": {},
   "source": [
    "#### 2.5 List\n",
    "This section of code contains the list of items to count in the function.\n",
    "\n",
    "```python\n",
    "my_list = ['A', 'A', 'B', 'C', 'A', 1, 2, 3, 2, 'python', 4.5, 6.5, 'B']\n",
    "```"
   ]
  },
  {
   "cell_type": "markdown",
   "metadata": {},
   "source": [
    "<div class=\"alert alert-block alert-info\"><b>Additional information: If you are looking for more detail on lists you can run the  help('list') statement in your own Jupyter notebook. </div>"
   ]
  },
  {
   "cell_type": "markdown",
   "metadata": {},
   "source": [
    "---"
   ]
  },
  {
   "cell_type": "markdown",
   "metadata": {},
   "source": [
    "## 3. References"
   ]
  },
  {
   "cell_type": "markdown",
   "metadata": {},
   "source": [
    "[1] GeeksforGeeks. 2020. Python | *Get Unique Values From List Of Dictionary - Geeksforgeeks*. [online] Available at: <https://www.geeksforgeeks.org/python-get-unique-values-from-list-of-dictionary/> [Accessed 7 October 2020]."
   ]
  },
  {
   "cell_type": "markdown",
   "metadata": {},
   "source": [
    "[2] GeeksforGeeks. 2020. *Counting The Frequencies In A List Using Dictionary In Python - Geeksforgeeks*. [online] Available at: <https://www.geeksforgeeks.org/counting-the-frequencies-in-a-list-using-dictionary-in-python/> [Accessed 6 October 2020]."
   ]
  },
  {
   "cell_type": "markdown",
   "metadata": {},
   "source": [
    "[3] Elance, P., 2019. *Counting The Frequencies In A List Using Dictionary In Python*. [online] Tutorialspoint.com. Available at: <https://www.tutorialspoint.com/counting-the-frequencies-in-a-list-using-dictionary-in-python> [Accessed 6 October 2020]."
   ]
  },
  {
   "cell_type": "markdown",
   "metadata": {},
   "source": [
    "[4] Techie Delight. 2020. *Count Occurrences Of An Item In A Python List - Techie Delight*. [online] Available at: <https://www.techiedelight.com/count-occurrences-of-an-item-in-a-python-list/> [Accessed 7 October 2020]."
   ]
  },
  {
   "cell_type": "markdown",
   "metadata": {},
   "source": [
    "[5] Learnpython.org. 2020. *String Formatting - Learn Python - Free Interactive Python Tutorial*. [online] Available at: <https://www.learnpython.org/en/String_Formatting> [Accessed 8 October 2020]."
   ]
  },
  {
   "cell_type": "markdown",
   "metadata": {},
   "source": [
    "[6] W3schools.com. 2020. *Python Dictionaries*. [online] Available at: <https://www.w3schools.com/python/python_dictionaries.asp> [Accessed 11 October 2020]."
   ]
  },
  {
   "cell_type": "markdown",
   "metadata": {},
   "source": [
    "[7] Docs.python.org. 2020. 5. *Data Structures — Python 3.9.0 Documentation*. [online] Available at: <https://docs.python.org/3/tutorial/datastructures.html> [Accessed 11 October 2020]."
   ]
  },
  {
   "cell_type": "markdown",
   "metadata": {},
   "source": [
    "[8] Kite.com. 2020. *Code Faster With Line-Of-Code Completions, Cloudless Processing*. [online] Available at: <https://www.kite.com/python/answers/how-to-count-item-frequency-in-python> [Accessed 10 October 2020]."
   ]
  },
  {
   "cell_type": "markdown",
   "metadata": {},
   "source": [
    "[9] GeeksforGeeks. 2020. *Python Dictionary | Items() Method - Geeksforgeeks*. [online] Available at: <https://www.geeksforgeeks.org/python-dictionary-items-method/> [Accessed 11 October 2020]."
   ]
  },
  {
   "cell_type": "markdown",
   "metadata": {},
   "source": [
    "[10] Edureka. 2020. *What Is The Main Function In Python And How To Use It | Edureka*. [online] Available at: <https://www.edureka.co/blog/python-main-function/> [Accessed 11 October 2020]."
   ]
  },
  {
   "cell_type": "markdown",
   "metadata": {},
   "source": [
    "[11] Cite This For Me. 2020. *Save Time And Improve Your Marks With Citethisforme, The No. 1 Citation Tool*. [online] Available at: <https://www.citethisforme.com/> [Accessed 7 October 2020]."
   ]
  },
  {
   "cell_type": "markdown",
   "metadata": {},
   "source": [
    "[12] Okada, S., 2020. *7 Essential Tips For Writing With Jupyter Notebook*. [online] Medium. Available at: <https://towardsdatascience.com/7-essential-tips-for-writing-with-jupyter-notebook-60972a1a8901#7aff> [Accessed 11 October 2020]."
   ]
  },
  {
   "cell_type": "markdown",
   "metadata": {},
   "source": [
    "[13] Pythontutor.com. 2020. *Python Tutor - Visualize Python, Java, Javascript, C, C++, Ruby Code Execution*. [online] Available at: <http://www.pythontutor.com/visualize.html#mode=display> [Accessed 7 October 2020]."
   ]
  },
  {
   "cell_type": "markdown",
   "metadata": {},
   "source": [
    "---"
   ]
  },
  {
   "cell_type": "markdown",
   "metadata": {},
   "source": [
    "## Task 2 - dicerolls\n",
    "\n",
    "Write a Python function called dicerolls that simulates rolling dice. Your function should take two parameters: the number of dice `k` and the number of times to roll the dice `n`. The function should simulate randomly rolling `k` dice `n` times, keeping track of each total face value. It should then return a dictionary with the number of times each possible total face value occurred. So, calling the function as diceroll `(k=2, n=1000)` should return a dictionary like: `{2:19,3:50,4:82,5:112,6:135,7:174,8:133,9:114,10:75,11:70,12:36}`\n",
    "You can use any module from the Python standard library you wish and you should include a description with references of your algorithm in the notebook.\n",
    "\n",
    "---"
   ]
  },
  {
   "cell_type": "markdown",
   "metadata": {},
   "source": [
    "## 1. Solution"
   ]
  },
  {
   "cell_type": "code",
   "execution_count": 3,
   "metadata": {
    "ExecuteTime": {
     "end_time": "2020-12-07T17:02:35.031293Z",
     "start_time": "2020-12-07T17:02:34.818260Z"
    }
   },
   "outputs": [],
   "source": [
    "# import numpy library\n",
    "import numpy as np\n",
    "\n",
    "# use numpy random number generator\n",
    "rng = np.random.default_rng()\n",
    "\n",
    "# define the function\n",
    "\n",
    "\n",
    "def dicerolls():\n",
    "\n",
    "    # create a blank dictionary\n",
    "    diceroll = {}\n",
    "\n",
    "# create for loop\n",
    "    for i in range(1000):\n",
    "        d1 = rng.integers(1, 7)\n",
    "        d2 = rng.integers(1, 7)\n",
    "        diceroll[d1+d2] = diceroll.setdefault(d1+d2, 0)+1\n",
    "\n",
    "# iterate over key/value pairs in dictionary and print them\n",
    "    for roll, count in diceroll.items():\n",
    "        print(\"% s : % s\" % (roll, count))"
   ]
  },
  {
   "cell_type": "markdown",
   "metadata": {},
   "source": [
    "Lets have a look at the output of the function."
   ]
  },
  {
   "cell_type": "code",
   "execution_count": 4,
   "metadata": {
    "ExecuteTime": {
     "end_time": "2020-12-07T17:02:35.063403Z",
     "start_time": "2020-12-07T17:02:35.034250Z"
    }
   },
   "outputs": [
    {
     "name": "stdout",
     "output_type": "stream",
     "text": [
      "7 : 159\n",
      "8 : 147\n",
      "5 : 108\n",
      "9 : 122\n",
      "10 : 79\n",
      "6 : 144\n",
      "11 : 58\n",
      "4 : 85\n",
      "3 : 53\n",
      "12 : 19\n",
      "2 : 26\n"
     ]
    }
   ],
   "source": [
    "dicerolls()"
   ]
  },
  {
   "cell_type": "markdown",
   "metadata": {},
   "source": [
    "---\n",
    "## 2. Explanation\n",
    "\n",
    "#### 2.1 Numpy library and random number generator\n",
    "\n",
    "I've outlined below how the algorithm works and broken it in to sections for ease of use. First up was to import numpy and the random number generator (RNG). This will be used to simulate the dicerolls in the function.\n",
    "\n",
    "```python\n",
    "import numpy as np\n",
    "rng = np.random.default_rng()```"
   ]
  },
  {
   "cell_type": "markdown",
   "metadata": {},
   "source": [
    "<div class=\"alert alert-block alert-info\"><b>Additional information: If you are looking for more detail on random number generation in NumPy you can enter the following statement np.info(rng) statement in your own Jupyter notebook. </div>"
   ]
  },
  {
   "cell_type": "markdown",
   "metadata": {},
   "source": [
    "#### 2.2 Function\n",
    "\n",
    "In Task 1 I covered what a function is, so I won't repeat that here. For this task I start by defining the function `dicerolls` unlike in Task 1 there are no arguments.\n",
    "\n",
    "```python\n",
    "def dicerolls():```"
   ]
  },
  {
   "cell_type": "markdown",
   "metadata": {},
   "source": [
    "#### 2.3 For Loop\n",
    "\n",
    "Next up the code uses a for loop to iterate over each item in the list. At each iteration, check if item is in an initially empty dictionary. The `setdefault` method is used for setting defaults while or after filling the dictionary. This will store the results of the simulate dice rolls.\n",
    "\n",
    "```Python\n",
    " for i in range(1000):\n",
    "        d1=rng.integers(1,7)\n",
    "        d2=rng.integers(1,7)\n",
    "        diceroll[d1+d2] = diceroll.setdefault(d1+d2,0)+1\n",
    "```\n"
   ]
  },
  {
   "cell_type": "markdown",
   "metadata": {},
   "source": [
    "<div class=\"alert alert-block alert-info\"><b>Additional information: If you are looking for more detail on dictionaries(dicts) and (setdefault) you can run the  help('dict') statement in your own Jupyter notebook. </div>"
   ]
  },
  {
   "cell_type": "markdown",
   "metadata": {},
   "source": [
    "#### 2.4 Keys and Values\n",
    "\n",
    "The next section captures the items as the keys of the dictionary `diceroll` and their frequencies as the values.\n",
    "\n",
    "```Python\n",
    "    for roll, count in diceroll.items():\n",
    "        print(\"% s : % s\" % (roll, count))\n",
    "```"
   ]
  },
  {
   "cell_type": "markdown",
   "metadata": {},
   "source": [
    "## 3. References"
   ]
  },
  {
   "cell_type": "markdown",
   "metadata": {},
   "source": [
    "[1] Data Science Unlimited. 2020. *Step By Step: Coding A Dice Roll Simulator In Python | Examples For Beginners*. [online] Available at: <https://datascienceunlimited.tech/step-by-step-coding-a-dice-roll-simulator-in-python/> [Accessed 4 November 2020]."
   ]
  },
  {
   "cell_type": "markdown",
   "metadata": {},
   "source": [
    "[2] Medium. 2020. *How To Simulate A Dice Roll And Guess The Result In Python*. [online] Available at: <https://medium.com/an-amygdala/how-to-simulate-a-dice-roll-and-guess-the-result-in-python-9785079af6f3> [Accessed 4 November 2020]."
   ]
  },
  {
   "cell_type": "markdown",
   "metadata": {},
   "source": [
    "[3] Codegrepper.com. 2020. *Dice Rolling Simulator Python Code Example*. [online] Available at: <https://www.codegrepper.com/code-examples/python/dice+rolling+simulator+python> [Accessed 5 November 2020]."
   ]
  },
  {
   "cell_type": "markdown",
   "metadata": {},
   "source": [
    "[4] Pythonfiddle.com. 2020. *Mike's Dice Stats | Python Fiddle*. [online] Available at: <http://pythonfiddle.com/mikes-dice-stats/> [Accessed 5 November 2020]."
   ]
  },
  {
   "cell_type": "markdown",
   "metadata": {},
   "source": [
    "[5] Pieters, M., 2020. *Simulating Rolling 2 Dice In Python*. [online] Stack Overflow. Available at: <https://stackoverflow.com/questions/33069476/simulating-rolling-2-dice-in-python> [Accessed 5 November 2020]."
   ]
  },
  {
   "cell_type": "markdown",
   "metadata": {},
   "source": [
    "[6] Lin, S., 2020. *Program That Simulates Rolling A Dice, And Tells You How Many Times You Roll Each Number*. [online] Stack Overflow. Available at: <https://stackoverflow.com/questions/27220489/program-that-simulates-rolling-a-dice-and-tells-you-how-many-times-you-roll-eac> [Accessed 6 November 2020]."
   ]
  },
  {
   "cell_type": "markdown",
   "metadata": {},
   "source": [
    "[7] Hplgit.github.io. 2020. *Random Numbers And Simple Games*. [online] Available at: <http://hplgit.github.io/primer.html/doc/pub/random/._random-readable004.html> [Accessed 6 November 2020]."
   ]
  },
  {
   "cell_type": "markdown",
   "metadata": {},
   "source": [
    "[8] Darklinkdigital.com. 2020. *Python Dice Functions*. [online] Available at: <http://www.darklinkdigital.com/py-dice-functions.html> [Accessed 6 November 2020]."
   ]
  },
  {
   "cell_type": "markdown",
   "metadata": {},
   "source": [
    "[9] Iditect.com. 2020. *Python - Rolled 2 6-Side Die 1000 Times*. [online] Available at: <https://www.iditect.com/how-to/55151873.html> [Accessed 5 November 2020]."
   ]
  },
  {
   "cell_type": "markdown",
   "metadata": {},
   "source": [
    "[10] BBC Bitesize. 2020. *Functions In Python - Procedures And Functions - KS3 Computer Science Revision - BBC Bitesize*. [online] Available at: <https://www.bbc.co.uk/bitesize/guides/zqh49j6/revision/6> [Accessed 5 November 2020]."
   ]
  },
  {
   "cell_type": "markdown",
   "metadata": {},
   "source": [
    "[11] Stack Overflow. 2020. *Rolling 2 Dice 1000 Times And Counting The Number Of Times The Sum Of The Two Dice Hit*. [online] Available at: <https://stackoverflow.com/questions/60343980/rolling-2-dice-1000-times-and-counting-the-number-of-times-the-sum-of-the-two-di> [Accessed 5 November 2020]."
   ]
  },
  {
   "cell_type": "markdown",
   "metadata": {},
   "source": [
    "---\n",
    "\n",
    "## Task 3 - numpy.random.binomial\n",
    "\n",
    "The `numpy.random.binomial` function can be used to simulate flipping a coin with a 50/50 chance of heads or tails. Interestingly, if a coin is flipped many times then the number of heads is well approximated by a bell-shaped curve. For instance, if we flip a coin 100 times in a row the chance of getting 50 heads is relatively high, the chances of getting 0 or 100 heads is relatively low, and the chances of getting any other number of heads decreases as you move away from 50 in either direction towards 0 or 100.\n",
    "\n",
    "Write some python code that simulates flipping a coin 100 times. Then run this code 1,000 times, keeping track of the number of heads in each of the 1,000 simulations. Select an appropriate plot to depict the resulting list of 1,000 numbers, showing that it roughly follows a bell-shaped curve. You should explain your work in a Markdown cell above the code.\n",
    "\n",
    "---"
   ]
  },
  {
   "cell_type": "markdown",
   "metadata": {},
   "source": [
    "## 1. Solution"
   ]
  },
  {
   "cell_type": "code",
   "execution_count": 5,
   "metadata": {
    "ExecuteTime": {
     "end_time": "2020-12-07T17:02:37.131153Z",
     "start_time": "2020-12-07T17:02:35.066869Z"
    }
   },
   "outputs": [
    {
     "data": {
      "text/plain": [
       "array([45, 52, 57, 46, 50, 52, 49, 52, 54, 59, 45, 45, 44, 46, 42, 47, 46,\n",
       "       47, 53, 39, 55, 58, 49, 49, 47, 55, 57, 57, 54, 52, 57, 51, 47, 51,\n",
       "       40, 57, 45, 54, 48, 52, 54, 53, 55, 50, 53, 51, 47, 53, 49, 45, 48,\n",
       "       46, 50, 47, 49, 44, 49, 45, 54, 53, 46, 46, 48, 50, 47, 53, 51, 46,\n",
       "       41, 48, 55, 43, 49, 45, 49, 47, 54, 49, 49, 50, 59, 49, 47, 53, 55,\n",
       "       48, 52, 50, 50, 51, 56, 57, 44, 54, 49, 49, 57, 51, 42, 44, 53, 43,\n",
       "       50, 50, 51, 53, 58, 52, 49, 49, 51, 53, 56, 49, 51, 50, 56, 48, 54,\n",
       "       48, 52, 47, 47, 44, 49, 52, 43, 58, 49, 53, 51, 51, 44, 49, 50, 52,\n",
       "       54, 49, 55, 53, 59, 52, 51, 55, 48, 50, 52, 51, 52, 45, 52, 37, 49,\n",
       "       48, 47, 50, 37, 45, 47, 53, 49, 47, 49, 59, 56, 41, 53, 55, 49, 49,\n",
       "       51, 49, 49, 58, 47, 49, 48, 56, 54, 53, 41, 54, 49, 45, 52, 51, 53,\n",
       "       48, 44, 59, 53, 46, 50, 55, 53, 51, 45, 44, 45, 43, 51, 53, 63, 41,\n",
       "       43, 57, 52, 53, 54, 53, 56, 41, 60, 44, 47, 39, 48, 54, 51, 49, 45,\n",
       "       50, 47, 43, 47, 48, 54, 51, 47, 52, 64, 52, 49, 48, 52, 51, 52, 56,\n",
       "       56, 48, 45, 56, 48, 50, 50, 43, 54, 56, 52, 53, 41, 39, 50, 46, 56,\n",
       "       55, 57, 47, 48, 57, 49, 57, 56, 51, 50, 44, 47, 47, 59, 50, 53, 45,\n",
       "       56, 47, 56, 52, 55, 60, 44, 46, 44, 59, 43, 56, 46, 56, 46, 48, 52,\n",
       "       46, 58, 51, 50, 44, 49, 51, 58, 48, 53, 57, 58, 53, 55, 49, 38, 44,\n",
       "       52, 52, 49, 51, 61, 49, 56, 45, 46, 51, 50, 50, 52, 43, 56, 47, 56,\n",
       "       57, 49, 60, 52, 57, 49, 51, 54, 54, 63, 53, 45, 48, 46, 48, 38, 51,\n",
       "       50, 55, 55, 47, 41, 42, 51, 51, 55, 50, 48, 54, 50, 54, 38, 50, 54,\n",
       "       46, 40, 55, 57, 44, 48, 49, 48, 52, 49, 46, 51, 43, 53, 50, 54, 53,\n",
       "       60, 49, 51, 52, 47, 47, 53, 52, 52, 41, 49, 51, 47, 50, 53, 53, 53,\n",
       "       48, 49, 60, 43, 52, 56, 46, 41, 52, 51, 51, 58, 45, 57, 44, 46, 63,\n",
       "       53, 45, 56, 45, 54, 50, 48, 45, 64, 58, 44, 53, 38, 35, 42, 46, 46,\n",
       "       58, 52, 49, 53, 56, 52, 50, 55, 52, 54, 40, 55, 59, 50, 59, 55, 52,\n",
       "       55, 45, 53, 55, 56, 52, 46, 42, 41, 45, 46, 51, 44, 53, 45, 50, 56,\n",
       "       54, 55, 55, 49, 48, 53, 50, 51, 55, 52, 48, 44, 53, 58, 59, 54, 48,\n",
       "       46, 56, 52, 61, 42, 46, 51, 58, 53, 46, 50, 48, 53, 43, 48, 48, 49,\n",
       "       51, 54, 45, 51, 50, 56, 44, 54, 53, 53, 59, 47, 53, 51, 50, 46, 47,\n",
       "       46, 52, 46, 46, 45, 51, 51, 48, 53, 51, 50, 51, 56, 45, 54, 55, 51,\n",
       "       51, 47, 50, 47, 42, 50, 45, 49, 48, 55, 52, 48, 47, 51, 45, 50, 52,\n",
       "       56, 52, 49, 49, 47, 64, 55, 54, 44, 47, 52, 48, 51, 46, 43, 47, 52,\n",
       "       54, 44, 55, 51, 50, 47, 51, 49, 47, 45, 53, 51, 47, 56, 49, 49, 53,\n",
       "       46, 55, 53, 54, 48, 48, 45, 42, 54, 48, 54, 60, 49, 57, 48, 50, 49,\n",
       "       55, 46, 51, 46, 52, 51, 46, 45, 53, 35, 57, 55, 44, 49, 60, 44, 57,\n",
       "       51, 45, 50, 45, 58, 46, 53, 46, 52, 47, 51, 51, 53, 45, 61, 50, 52,\n",
       "       53, 49, 58, 56, 47, 47, 53, 46, 52, 46, 46, 53, 46, 63, 52, 47, 54,\n",
       "       38, 43, 42, 51, 50, 42, 45, 53, 55, 48, 43, 57, 46, 43, 47, 43, 56,\n",
       "       49, 47, 52, 44, 52, 45, 50, 56, 55, 51, 52, 56, 45, 49, 46, 54, 40,\n",
       "       48, 46, 44, 43, 46, 48, 43, 56, 53, 52, 58, 46, 49, 51, 49, 47, 52,\n",
       "       44, 51, 45, 50, 43, 51, 47, 52, 49, 55, 51, 41, 46, 53, 52, 52, 51,\n",
       "       42, 59, 52, 52, 42, 56, 58, 50, 45, 55, 51, 45, 52, 53, 51, 48, 44,\n",
       "       56, 47, 48, 46, 49, 52, 47, 60, 59, 50, 44, 45, 49, 47, 54, 56, 55,\n",
       "       55, 53, 47, 48, 43, 49, 46, 58, 49, 58, 49, 43, 46, 59, 54, 46, 54,\n",
       "       46, 56, 61, 52, 49, 52, 42, 54, 52, 61, 42, 46, 44, 49, 52, 51, 54,\n",
       "       40, 56, 57, 57, 51, 42, 52, 46, 52, 59, 56, 44, 48, 48, 58, 53, 45,\n",
       "       56, 50, 58, 51, 54, 58, 48, 42, 46, 54, 47, 55, 57, 51, 45, 49, 49,\n",
       "       51, 45, 49, 58, 38, 48, 49, 49, 48, 47, 48, 55, 58, 53, 49, 47, 44,\n",
       "       43, 43, 48, 54, 51, 44, 58, 58, 55, 46, 55, 49, 51, 54, 56, 47, 44,\n",
       "       46, 46, 45, 47, 49, 48, 48, 55, 46, 50, 44, 55, 54, 51, 52, 60, 57,\n",
       "       38, 49, 45, 54, 49, 50, 55, 45, 61, 47, 48, 52, 41, 59, 53, 46, 38,\n",
       "       51, 44, 51, 57, 49, 48, 44, 50, 53, 50, 37, 53, 47, 49, 47, 57, 46,\n",
       "       46, 48, 56, 52, 35, 45, 45, 50, 48, 41, 56, 46, 45, 52, 48, 47, 55,\n",
       "       45, 59, 48, 48, 42, 52, 53, 54, 51, 57, 50, 48, 40, 53, 48, 52, 49,\n",
       "       43, 56, 40, 45, 54, 48, 51, 52, 63, 39, 55, 48, 52, 54, 49, 46, 45,\n",
       "       53, 50, 53, 45, 46, 48, 47, 54, 50, 43, 46, 54, 54, 54, 47, 50, 45,\n",
       "       50, 47, 37, 53, 51, 45, 46, 50, 53, 50, 49, 49, 58, 47, 47, 48, 43,\n",
       "       47, 51, 43, 52, 51, 52, 47, 48, 51, 51, 47, 55, 44, 47],\n",
       "      dtype=int64)"
      ]
     },
     "execution_count": 5,
     "metadata": {},
     "output_type": "execute_result"
    }
   ],
   "source": [
    "# inmport the required libraries\n",
    "import numpy as np\n",
    "import seaborn as sns\n",
    "import matplotlib.pyplot as plt\n",
    "%matplotlib inline\n",
    "\n",
    "# number of coin toss\n",
    "n = 100\n",
    "\n",
    "# set the probability\n",
    "p = 0.5\n",
    "\n",
    "# number of experiments\n",
    "s = 1000\n",
    "\n",
    "# generate the results\n",
    "x = np.random.default_rng(1).binomial(n, p, s)\n",
    "\n",
    "# view the outcome\n",
    "x"
   ]
  },
  {
   "cell_type": "code",
   "execution_count": 6,
   "metadata": {
    "ExecuteTime": {
     "end_time": "2020-12-07T17:02:37.631844Z",
     "start_time": "2020-12-07T17:02:37.135599Z"
    }
   },
   "outputs": [
    {
     "data": {
      "image/png": "[encoded data removed]",
      "text/plain": [
       "<Figure size 684x468 with 1 Axes>"
      ]
     },
     "metadata": {},
     "output_type": "display_data"
    }
   ],
   "source": [
    "# visualisation styling code\n",
    "sns.set(rc={'figure.figsize': (9.5, 6.5)})\n",
    "sns.set_context('notebook')\n",
    "sns.set_style(\"whitegrid\")\n",
    "\n",
    "# generate the distplot\n",
    "sns.distplot(x, kde=True, color='steelblue')\n",
    "plt.xlabel(\"Distribution\", labelpad=15)\n",
    "plt.ylabel(\"Density\", labelpad=15)\n",
    "plt.title(\"Binomial Distribution\", fontsize=15, y=1.012);"
   ]
  },
  {
   "cell_type": "markdown",
   "metadata": {},
   "source": [
    "---"
   ]
  },
  {
   "cell_type": "markdown",
   "metadata": {},
   "source": [
    "## 2. Explanation\n",
    "\n",
    "A coin toss in mathematical terms can be thought of as a binomial experiment, were we have a coin with the probability of getting a head a success and tails a failure. We assume it's a \"fair coin\" for the task explained below. But what is a \"fair coin\"? In probability theory and statistics, a sequence of independent Bernoulli trials with probability of 1/2 of success on each trial is metaphorically called a \"fair coin\". One for which the probability is not 1/2 is called a biased coin or unfair coin. \n",
    "\n",
    "Wait a minute, above I said a coin toss could be a thought of as a Binomial experiment where as later I mentioned a Bernoulli trial. Are these not different. This needs some explanation. \"*The Bernoulli distribution represents the success or failure of a single Bernoulli trial.  The Binomial Distribution represents the number of successes and failures in __n__ independent Bernoulli trials for some given value of __n__.  For example, if a manufactured item is defective with probability __p__, then the binomial distribution represents the number of successes and failures in a lot of __n__ items.  In particular, sampling from this distribution gives a count of the number of defective items in a sample lot.  Another example is the number of heads obtained in tossing a coin __n__ times*\"."
   ]
  },
  {
   "cell_type": "markdown",
   "metadata": {},
   "source": [
    "#### 2.1 Import required libraries\n",
    "\n",
    "This section of code covers importing the required libraries needed.\n",
    "\n",
    "```python\n",
    "import numpy as np\n",
    "import seaborn as sns\n",
    "import matplotlib.pyplot as plt\n",
    "%matplotlib inline```"
   ]
  },
  {
   "cell_type": "markdown",
   "metadata": {},
   "source": [
    "#### 2.2 Random binomial\n",
    "\n",
    "In this section code I'm generating results of the binomial. Running the coin toss experiment 1000 times, where in each experiment we toss a fair coin 100 times asking how many heads we see in each of the 100 experiments. I have set the seed for the rng so that the results can be replicated.\n",
    "\n",
    "```python\n",
    "# number of coin toss\n",
    "n = 100\n",
    "\n",
    "# set the probability\n",
    "p = 0.5\n",
    "\n",
    "# number of experiments\n",
    "s = 1000\n",
    "\n",
    "# generate the results\n",
    "x = np.random.default_rng(1).binomial(n, p, s)\n",
    "```"
   ]
  },
  {
   "cell_type": "markdown",
   "metadata": {},
   "source": [
    "<div class=\"alert alert-block alert-info\"><b>Additional information: If you are looking for more detail on random number generation in NumPy you can enter the following statement np.info(rng) statement in your own Jupyter notebook. </div>"
   ]
  },
  {
   "cell_type": "markdown",
   "metadata": {},
   "source": [
    "#### 2.3 View the outcome\n",
    "\n",
    "Now we print the array of results.\n",
    "\n",
    "```python\n",
    "# view the outcome\n",
    "x```"
   ]
  },
  {
   "cell_type": "markdown",
   "metadata": {},
   "source": [
    "#### 2.4 Visualize the results\n",
    "\n",
    "This section applies the visulation style and plots the outcome of the code.\n",
    "\n",
    "```python\n",
    "# visualisation styling code\n",
    "sns.set(rc={'figure.figsize': (9.5, 6.5)})\n",
    "sns.set_context('notebook')\n",
    "sns.set_style(\"whitegrid\")\n",
    "\n",
    "# generate the distplot\n",
    "sns.distplot(x, kde=True, color='steelblue')\n",
    "plt.xlabel(\"Distribution\", labelpad=15)\n",
    "plt.ylabel(\"Density\", labelpad=15)\n",
    "plt.title(\"Binomial Distribution\", fontsize=15, y=1.012)\n",
    "```"
   ]
  },
  {
   "cell_type": "markdown",
   "metadata": {},
   "source": [
    "## 3. References"
   ]
  },
  {
   "cell_type": "markdown",
   "metadata": {},
   "source": [
    "[1] Python and R Tips. 2018. *Simulating Coin Toss Experiment In Python With Numpy - Python And R Tips*. [online] Available at: <https://cmdlinetips.com/2018/12/simulating-coin-toss-experiment-with-binomial-random-numbers-using-numpy/> [Accessed 17 November 2020]."
   ]
  },
  {
   "cell_type": "markdown",
   "metadata": {},
   "source": [
    "[2] Medium. 2019. *How To Code A Fair Coin Flip In Python*. [online] Available at: <https://towardsdatascience.com/how-to-code-a-fair-coin-flip-in-python-d54312f33da9> [Accessed 17 November 2020]."
   ]
  },
  {
   "cell_type": "markdown",
   "metadata": {},
   "source": [
    "[3] Umayanga, T., 2020. *What Is Binomial Distribution And How To Plot It Using Python*. [online] Medium. Available at: <https://medium.com/@tharakau/what-is-binomial-distribution-and-how-to-plot-it-using-python-e9d95bd341ee> [Accessed 17 November 2020]."
   ]
  },
  {
   "cell_type": "markdown",
   "metadata": {},
   "source": [
    "[4] Unf.edu. 2020. *Empirical Distributions*. [online] Available at: <https://www.unf.edu/~cwinton/html/cop4300/s09/class.notes/DiscreteDist.pdf> [Accessed 2 December 2020]."
   ]
  },
  {
   "cell_type": "markdown",
   "metadata": {},
   "source": [
    "[5] Mimi Mathematics. 2020. *Fair Coin*. [online] Available at: <https://en.mimi.hu/mathematics/fair_coin.html> [Accessed 2 December 2020]."
   ]
  },
  {
   "cell_type": "markdown",
   "metadata": {},
   "source": [
    "[6] Python and R Tips. 2020. *Simulating Coin Toss Experiment In Python With Numpy - Python And R Tips*. [online] Available at: <https://cmdlinetips.com/2018/12/simulating-coin-toss-experiment-with-binomial-random-numbers-using-numpy/> [Accessed 20 November 2020]."
   ]
  },
  {
   "cell_type": "markdown",
   "metadata": {},
   "source": [
    "---"
   ]
  },
  {
   "cell_type": "markdown",
   "metadata": {},
   "source": [
    "## Task 4 - Simpon's paradox\n",
    "\n",
    "Simpson’s paradox is a well-known statistical paradox where a trend evident in a number of groups reverses when the groups are combined into one big data set.  Use numpy to create four data sets, each with an __x__ array and  a  corresponding __y__ array,  to  demonstrate  Simpson’s  paradox.   You  might create  your __x__ arrays  using numpy.linspace and  create  the __y__ array  for  each __x__ using notation like __y = a * x + b__ where you choose the __a__ and __b__ for each __x, y__ pair to demonstrate the paradox. You might see the Wikipedia page for Simpson’s paradox for inspiration."
   ]
  },
  {
   "cell_type": "markdown",
   "metadata": {},
   "source": [
    "It occurs when the \"*the correlation calculated for a dataset changes direction if the dataset is split into groups*\". In effect a positive correlation when looking at a whole dataset not only disappears but ends up with a negative correlation when the data is split/partitioned. It illustrates \"*the need to be skeptical of conclusions that rely on statistics that depend on how the data is aggregated*\". It is a type of omitted variable bias , the result of which one variable overcomes the explanation of a missing or lurking variable. This leads to a \"*incorrect interpretation of an apparently obvious insight*\". (Abousalh-Neto, N., 2020,(1))"
   ]
  },
  {
   "cell_type": "markdown",
   "metadata": {},
   "source": [
    "## 1. Solution"
   ]
  },
  {
   "cell_type": "markdown",
   "metadata": {},
   "source": [
    "#### 1.1 Import required libraries"
   ]
  },
  {
   "cell_type": "code",
   "execution_count": 7,
   "metadata": {
    "ExecuteTime": {
     "end_time": "2020-12-07T17:02:37.647497Z",
     "start_time": "2020-12-07T17:02:37.634836Z"
    }
   },
   "outputs": [],
   "source": [
    "# import required libraries\n",
    "import numpy as np\n",
    "import seaborn as sns\n",
    "import matplotlib\n",
    "import matplotlib.pyplot as plt\n",
    "%matplotlib inline"
   ]
  },
  {
   "cell_type": "markdown",
   "metadata": {},
   "source": [
    "#### 1.2 Create first dataset"
   ]
  },
  {
   "cell_type": "markdown",
   "metadata": {},
   "source": [
    "This section of code creates the first dataset using NumPy linspace for the __x__ values and the linear equation for the __y__ values. I've added some noise to for aesthetics."
   ]
  },
  {
   "cell_type": "markdown",
   "metadata": {},
   "source": [
    "<div class=\"alert alert-block alert-info\"><b>NumPy linspace: </b> linspace is an in-built function in Python’s NumPy library. It is used to create an evenly spaced sequence in a specified interval. </div> "
   ]
  },
  {
   "cell_type": "markdown",
   "metadata": {},
   "source": [
    "<div class=\"alert alert-block alert-info\"><b>Linear equation: </b> A linear equation is any equation that can be written in the form. ax+b=0. where a and b are real numbers and x is a variable. This form is sometimes called the standard form of a linear equation  </div> "
   ]
  },
  {
   "cell_type": "code",
   "execution_count": 8,
   "metadata": {
    "ExecuteTime": {
     "end_time": "2020-12-07T17:02:37.663359Z",
     "start_time": "2020-12-07T17:02:37.650646Z"
    }
   },
   "outputs": [],
   "source": [
    "# create first dataset\n",
    "x1 = np.linspace(0, 1, 24)\n",
    "noise = np.random.normal(0, 0.2, x1.shape)\n",
    "a, b = -1, 1\n",
    "y = a*x1+b\n",
    "y1 = y+noise"
   ]
  },
  {
   "cell_type": "markdown",
   "metadata": {},
   "source": [
    "Lets have a look at the data."
   ]
  },
  {
   "cell_type": "code",
   "execution_count": 9,
   "metadata": {
    "ExecuteTime": {
     "end_time": "2020-12-07T17:02:37.694961Z",
     "start_time": "2020-12-07T17:02:37.673541Z"
    }
   },
   "outputs": [
    {
     "data": {
      "text/plain": [
       "array([0.        , 0.04347826, 0.08695652, 0.13043478, 0.17391304,\n",
       "       0.2173913 , 0.26086957, 0.30434783, 0.34782609, 0.39130435,\n",
       "       0.43478261, 0.47826087, 0.52173913, 0.56521739, 0.60869565,\n",
       "       0.65217391, 0.69565217, 0.73913043, 0.7826087 , 0.82608696,\n",
       "       0.86956522, 0.91304348, 0.95652174, 1.        ])"
      ]
     },
     "execution_count": 9,
     "metadata": {},
     "output_type": "execute_result"
    }
   ],
   "source": [
    "# view x1 array\n",
    "x1"
   ]
  },
  {
   "cell_type": "code",
   "execution_count": 10,
   "metadata": {
    "ExecuteTime": {
     "end_time": "2020-12-07T17:02:37.710578Z",
     "start_time": "2020-12-07T17:02:37.697954Z"
    }
   },
   "outputs": [
    {
     "data": {
      "text/plain": [
       "array([ 1.10253747,  0.60330111,  0.82193776,  1.55667081,  0.55808191,\n",
       "        0.68234918,  1.08610385,  0.60982003,  0.72381765,  0.72948266,\n",
       "        0.62306483,  0.54532461,  0.87165474,  0.40333161,  0.47824054,\n",
       "        0.3674557 ,  0.1476442 ,  0.24963335,  0.27824182,  0.19755324,\n",
       "        0.3312687 ,  0.42650451, -0.07065883,  0.5511153 ])"
      ]
     },
     "execution_count": 10,
     "metadata": {},
     "output_type": "execute_result"
    }
   ],
   "source": [
    "# view y1 array\n",
    "y1"
   ]
  },
  {
   "cell_type": "markdown",
   "metadata": {},
   "source": [
    "The below section of code displays the coefficient of __x1__ and __y1__."
   ]
  },
  {
   "cell_type": "markdown",
   "metadata": {},
   "source": [
    "<div class=\"alert alert-block alert-info\"><b>Coefficient: </b> a value, in mathematics, that appears in front of and multiplies another value. For example in 2x + 4y = 7, 2 is the coefficient of x  </div> "
   ]
  },
  {
   "cell_type": "markdown",
   "metadata": {},
   "source": [
    "<div class=\"alert alert-block alert-info\"><b>NumPy polyfit: </b> This is a pretty general least squares polynomial fit function which accepts the data set and a polynomial function of any degree (specified by the user), and returns an array of coefficients that minimizes the squared error.  </div> "
   ]
  },
  {
   "cell_type": "code",
   "execution_count": 11,
   "metadata": {
    "ExecuteTime": {
     "end_time": "2020-12-07T17:02:37.725926Z",
     "start_time": "2020-12-07T17:02:37.713732Z"
    }
   },
   "outputs": [
    {
     "data": {
      "text/plain": [
       "array([-0.83286634,  0.99453637])"
      ]
     },
     "execution_count": 11,
     "metadata": {},
     "output_type": "execute_result"
    }
   ],
   "source": [
    "# coefficient\n",
    "coeffs1 = np.polyfit(x1, y1, 1)\n",
    "coeffs1"
   ]
  },
  {
   "cell_type": "markdown",
   "metadata": {
    "ExecuteTime": {
     "end_time": "2020-12-07T14:31:58.403260Z",
     "start_time": "2020-12-07T14:31:58.379847Z"
    }
   },
   "source": [
    "Now lets plot the data."
   ]
  },
  {
   "cell_type": "code",
   "execution_count": 12,
   "metadata": {
    "ExecuteTime": {
     "end_time": "2020-12-07T17:02:38.240896Z",
     "start_time": "2020-12-07T17:02:37.729645Z"
    },
    "scrolled": true
   },
   "outputs": [
    {
     "data": {
      "image/png": "[encoded data removed]",
      "text/plain": [
       "<Figure size 432x288 with 1 Axes>"
      ]
     },
     "metadata": {
      "needs_background": "light"
     },
     "output_type": "display_data"
    }
   ],
   "source": [
    "plt.plot(x1, y1, '.');\n",
    "plt.plot(x1, coeffs1[0] * x1 + coeffs1[1], '-', label='Best fit')\n",
    "plt.legend();"
   ]
  },
  {
   "cell_type": "markdown",
   "metadata": {},
   "source": [
    "#### 1.3 Create second dataset"
   ]
  },
  {
   "cell_type": "markdown",
   "metadata": {},
   "source": [
    "<div class=\"alert alert-block alert-info\"><b>Note: </b> For creating datasets 2, 3 and 4, I excluded the code that viewed the outputted arrays as It was only for illustrative purposes. </div> "
   ]
  },
  {
   "cell_type": "code",
   "execution_count": 13,
   "metadata": {
    "ExecuteTime": {
     "end_time": "2020-12-07T17:02:38.257605Z",
     "start_time": "2020-12-07T17:02:38.243045Z"
    }
   },
   "outputs": [],
   "source": [
    "# create second dataset\n",
    "x2 = np.linspace(1, 2, 24)\n",
    "noise = np.random.normal(0, 0.2, x2.shape)\n",
    "a, b = -2, 4\n",
    "y = a*x2+b\n",
    "y2 = y+noise"
   ]
  },
  {
   "cell_type": "code",
   "execution_count": 14,
   "metadata": {
    "ExecuteTime": {
     "end_time": "2020-12-07T17:02:38.273286Z",
     "start_time": "2020-12-07T17:02:38.260682Z"
    }
   },
   "outputs": [
    {
     "data": {
      "text/plain": [
       "array([-2.13551434,  4.18419706])"
      ]
     },
     "execution_count": 14,
     "metadata": {},
     "output_type": "execute_result"
    }
   ],
   "source": [
    "# coefficient\n",
    "coeffs2 = np.polyfit(x2, y2, 1)\n",
    "coeffs2"
   ]
  },
  {
   "cell_type": "code",
   "execution_count": 15,
   "metadata": {
    "ExecuteTime": {
     "end_time": "2020-12-07T17:02:38.591421Z",
     "start_time": "2020-12-07T17:02:38.276222Z"
    },
    "scrolled": true
   },
   "outputs": [
    {
     "data": {
      "image/png": "[encoded data removed]",
      "text/plain": [
       "<Figure size 432x288 with 1 Axes>"
      ]
     },
     "metadata": {
      "needs_background": "light"
     },
     "output_type": "display_data"
    }
   ],
   "source": [
    "plt.plot(x2, y2, '.');\n",
    "plt.plot(x2, coeffs2[0] * x2 + coeffs2[1], '-', label='Best fit')\n",
    "plt.legend();"
   ]
  },
  {
   "cell_type": "markdown",
   "metadata": {},
   "source": [
    "#### 1.4 Create third dataset"
   ]
  },
  {
   "cell_type": "code",
   "execution_count": 16,
   "metadata": {
    "ExecuteTime": {
     "end_time": "2020-12-07T17:02:38.607152Z",
     "start_time": "2020-12-07T17:02:38.598605Z"
    }
   },
   "outputs": [],
   "source": [
    "# create third dataset\n",
    "x3 = np.linspace(2, 3, 24)\n",
    "noise = np.random.normal(0, 0.2, x3.shape)\n",
    "a, b = -3, 12\n",
    "y = a*x3+b\n",
    "y3 = y+noise"
   ]
  },
  {
   "cell_type": "code",
   "execution_count": 17,
   "metadata": {
    "ExecuteTime": {
     "end_time": "2020-12-07T17:02:38.622517Z",
     "start_time": "2020-12-07T17:02:38.611591Z"
    }
   },
   "outputs": [
    {
     "data": {
      "text/plain": [
       "array([-3.04432216, 12.04264582])"
      ]
     },
     "execution_count": 17,
     "metadata": {},
     "output_type": "execute_result"
    }
   ],
   "source": [
    "# coefficient\n",
    "coeffs3 = np.polyfit(x3, y3, 1)\n",
    "coeffs3"
   ]
  },
  {
   "cell_type": "code",
   "execution_count": 18,
   "metadata": {
    "ExecuteTime": {
     "end_time": "2020-12-07T17:02:38.926437Z",
     "start_time": "2020-12-07T17:02:38.624590Z"
    },
    "scrolled": true
   },
   "outputs": [
    {
     "data": {
      "image/png": "[encoded data removed]",
      "text/plain": [
       "<Figure size 432x288 with 1 Axes>"
      ]
     },
     "metadata": {
      "needs_background": "light"
     },
     "output_type": "display_data"
    }
   ],
   "source": [
    "plt.plot(x3, y3, '.');\n",
    "plt.plot(x3, coeffs3[0] * x3 + coeffs3[1], '-', label='Best fit')\n",
    "plt.legend();"
   ]
  },
  {
   "cell_type": "markdown",
   "metadata": {},
   "source": [
    "#### 1.5 Create fourth dataset"
   ]
  },
  {
   "cell_type": "code",
   "execution_count": 19,
   "metadata": {
    "ExecuteTime": {
     "end_time": "2020-12-07T17:02:38.942580Z",
     "start_time": "2020-12-07T17:02:38.930518Z"
    }
   },
   "outputs": [],
   "source": [
    "# create fourth dataset\n",
    "x4 = np.linspace(3, 4, 24)\n",
    "noise = np.random.normal(0, 0.2, x4.shape)\n",
    "a, b = -4, 20\n",
    "y = a*x4+b\n",
    "y4 = y+noise"
   ]
  },
  {
   "cell_type": "code",
   "execution_count": 20,
   "metadata": {
    "ExecuteTime": {
     "end_time": "2020-12-07T17:02:38.958217Z",
     "start_time": "2020-12-07T17:02:38.945571Z"
    }
   },
   "outputs": [
    {
     "data": {
      "text/plain": [
       "array([-4.00050007, 20.00959754])"
      ]
     },
     "execution_count": 20,
     "metadata": {},
     "output_type": "execute_result"
    }
   ],
   "source": [
    "# coefficient\n",
    "coeffs4 = np.polyfit(x4, y4, 1)\n",
    "coeffs4"
   ]
  },
  {
   "cell_type": "code",
   "execution_count": 21,
   "metadata": {
    "ExecuteTime": {
     "end_time": "2020-12-07T17:02:39.226254Z",
     "start_time": "2020-12-07T17:02:38.961778Z"
    },
    "scrolled": true
   },
   "outputs": [
    {
     "data": {
      "image/png": "[encoded data removed]",
      "text/plain": [
       "<Figure size 432x288 with 1 Axes>"
      ]
     },
     "metadata": {
      "needs_background": "light"
     },
     "output_type": "display_data"
    }
   ],
   "source": [
    "plt.plot(x4, y4, '.');\n",
    "plt.plot(x4, coeffs4[0] * x4 + coeffs4[1], '-', label='Best fit')\n",
    "plt.legend();"
   ]
  },
  {
   "cell_type": "markdown",
   "metadata": {},
   "source": [
    "#### 1.6 Concatenate the  datasets"
   ]
  },
  {
   "cell_type": "markdown",
   "metadata": {},
   "source": [
    "Now it's time to join the datasets together and see what happens."
   ]
  },
  {
   "cell_type": "code",
   "execution_count": 22,
   "metadata": {
    "ExecuteTime": {
     "end_time": "2020-12-07T17:02:39.242059Z",
     "start_time": "2020-12-07T17:02:39.230067Z"
    }
   },
   "outputs": [],
   "source": [
    "# concatenate the four datsets created earlier\n",
    "x_array = np.concatenate((x1, x2, x3, x4))\n",
    "y_array = np.concatenate((y1, y2, y3, y4))"
   ]
  },
  {
   "cell_type": "code",
   "execution_count": 23,
   "metadata": {
    "ExecuteTime": {
     "end_time": "2020-12-07T17:02:39.257590Z",
     "start_time": "2020-12-07T17:02:39.247020Z"
    }
   },
   "outputs": [
    {
     "data": {
      "text/plain": [
       "array([ 1.6714934, -0.3433077])"
      ]
     },
     "execution_count": 23,
     "metadata": {},
     "output_type": "execute_result"
    }
   ],
   "source": [
    "# coefficient\n",
    "coeffs5 = np.polyfit(x_array, y_array, 1)\n",
    "coeffs5"
   ]
  },
  {
   "cell_type": "markdown",
   "metadata": {},
   "source": [
    "Now lets plot the combined dataset and see what happens. According to Simpson's Paradox the correlation should change. In the four datasets we created there was a negative correlation between the x and y values by design. "
   ]
  },
  {
   "cell_type": "markdown",
   "metadata": {},
   "source": [
    "<div class=\"alert alert-block alert-info\"><b>Negative correlation: </b> Negative correlation is a relationship between two variables in which one variable increases as the other decreases, and vice versa. In statistics, a perfect negative correlation is represented by the value -1, a 0 indicates no correlation, and a +1 indicates a perfect positive correlation. A perfect negative correlation means the relationship that exists between two variables is negative 100% of the time. (Investopedia. 2020.,(6))  </div> "
   ]
  },
  {
   "cell_type": "markdown",
   "metadata": {},
   "source": [
    "#### 1.7 Plotting"
   ]
  },
  {
   "cell_type": "code",
   "execution_count": 24,
   "metadata": {
    "ExecuteTime": {
     "end_time": "2020-12-07T17:02:39.559339Z",
     "start_time": "2020-12-07T17:02:39.260695Z"
    }
   },
   "outputs": [
    {
     "data": {
      "image/png": "[encoded data removed]",
      "text/plain": [
       "<Figure size 432x288 with 1 Axes>"
      ]
     },
     "metadata": {
      "needs_background": "light"
     },
     "output_type": "display_data"
    }
   ],
   "source": [
    "plt.plot(x_array, y_array, '.');\n",
    "plt.plot(x_array, coeffs5[0] * x_array + coeffs5[1], '-', label='Best fit')\n",
    "plt.legend();"
   ]
  },
  {
   "cell_type": "markdown",
   "metadata": {
    "ExecuteTime": {
     "end_time": "2020-12-07T16:54:37.326357Z",
     "start_time": "2020-12-07T16:54:37.314835Z"
    }
   },
   "source": [
    "As expected the correlation is now positive. "
   ]
  },
  {
   "cell_type": "markdown",
   "metadata": {},
   "source": [
    "<div class=\"alert alert-block alert-info\"><b>Positive correlation: </b>  Positive correlation is a relationship between two variables in which both variables move in tandem—that is, in the same direction. A positive correlation exists when one variable decreases as the other variable decreases, or one variable increases while the other increases.\n",
    "\n",
    "In statistics, a perfect positive correlation is represented by the correlation coefficient value +1.0, while 0 indicates no correlation, and -1.0 indicates a perfect inverse (negative) correlation.  (Investopedia. 2020.,(7))  </div> "
   ]
  },
  {
   "cell_type": "markdown",
   "metadata": {},
   "source": [
    "## 2. References"
   ]
  },
  {
   "cell_type": "markdown",
   "metadata": {},
   "source": [
    "[1] Abousalh-Neto, N., 2020. *The Desert And The Dunes: Finding Oases And Avoiding Mirages With SAS Visual Analytics*. [online] Support.sas.com. Available at: <https://support.sas.com/resources/papers/proceedings14/SAS252-2014.pdf> [Accessed 3 December 2020]."
   ]
  },
  {
   "cell_type": "markdown",
   "metadata": {},
   "source": [
    "[2] Long, R., 2016. *Can You Please Explain Simpson's Paradox With Equations, Instead Of Contingency Tables?*. [online] Cross Validated. Available at: <https://stats.stackexchange.com/questions/221892/can-you-please-explain-simpsons-paradox-with-equations-instead-of-contingency> [Accessed 4 December 2020]."
   ]
  },
  {
   "cell_type": "markdown",
   "metadata": {},
   "source": [
    "[3] Atri, Y., 2020. *PYTHON: Solving Y=A+B*X Where X Is A Predefined List*. [online] Stack Overflow. Available at: <https://stackoverflow.com/questions/60337609/python-solving-y-abx-where-x-is-a-predefined-list> [Accessed 3 December 2020]."
   ]
  },
  {
   "cell_type": "markdown",
   "metadata": {},
   "source": [
    "[4] Ebner, J., 2020. *How To Use The Numpy Linspace Function*. [online] Sharp Sight. Available at: <https://www.sharpsightlabs.com/blog/numpy-linspace/> [Accessed 6 December 2018]."
   ]
  },
  {
   "cell_type": "markdown",
   "metadata": {},
   "source": [
    "[5] utorial.math.lamar.edu. 2020. *Algebra - Linear Equations*. [online] Available at: <https://tutorial.math.lamar.edu/classes/alg/solvelineareqns.aspx> [Accessed 3 December 2020]."
   ]
  },
  {
   "cell_type": "markdown",
   "metadata": {},
   "source": [
    "[6] Investopedia. 2020. *Negative Correlation Definition*. [online] Available at: <https://www.investopedia.com/terms/n/negative-correlation.asp> [Accessed 7 December 2020]."
   ]
  },
  {
   "cell_type": "markdown",
   "metadata": {},
   "source": [
    "[7] Investopedia. 2020. *Understanding Positive Correlation*. [online] Available at: <https://www.investopedia.com/terms/p/positive-correlation.asp> [Accessed 7 December 2020]."
   ]
  },
  {
   "cell_type": "markdown",
   "metadata": {},
   "source": [
    "---"
   ]
  }
 ],
 "metadata": {
  "kernelspec": {
   "display_name": "Python 3",
   "language": "python",
   "name": "python3"
  },
  "language_info": {
   "codemirror_mode": {
    "name": "ipython",
    "version": 3
   },
   "file_extension": ".py",
   "mimetype": "text/x-python",
   "name": "python",
   "nbconvert_exporter": "python",
   "pygments_lexer": "ipython3",
   "version": "3.8.3"
  },
  "toc": {
   "base_numbering": 1,
   "nav_menu": {},
   "number_sections": false,
   "sideBar": true,
   "skip_h1_title": false,
   "title_cell": "",
   "title_sidebar": "Contents",
   "toc_cell": true,
   "toc_position": {
    "height": "calc(100% - 180px)",
    "left": "10px",
    "top": "150px",
    "width": "243.7px"
   },
   "toc_section_display": true,
   "toc_window_display": true
  }
 },
 "nbformat": 4,
 "nbformat_minor": 4
}
