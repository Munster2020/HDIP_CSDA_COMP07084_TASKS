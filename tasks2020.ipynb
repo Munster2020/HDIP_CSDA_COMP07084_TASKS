{
 "cells": [
  {
   "cell_type": "markdown",
   "metadata": {},
   "source": [
    "![](GMIT_Logo.jpg)\n",
    "\n",
    "# Higher Diploma in Science in Computing (Data Analytics)\n",
    "#### Programme Module: Fundamentals of Data Analysis (COMP07084) \n",
    "---\n",
    "## Task 1\n",
    "\n",
    "Write a Python function called counts that takes a list as input and returns a dictionary of unique items in the list as keys and the number of times each item appears as values.  So, the input ['A','A','B','C','A'] should have output {'A': 3,'B': 1,'C': 1}.  \n",
    "\n",
    "Your code should not depend on any module from the standard library or otherwise.   You should research he task first and include a description with references of your algorithm in the notebook.\n",
    "\n",
    "__Addendum:__ We were also asked to see if we could create a solution that could could use not just strings in the input but also integers or floats.\n",
    "\n",
    "__Clarification:__ You cannot use any part of the standard library that has to be imported. The Python documentation technically includes the built-in, non-language features in the standard library - even though they do not need to be imported: https://docs.python.org/3/library/. You can use any of these built-in features - just not anything you need to import.\n",
    "\n",
    "---"
   ]
  },
  {
   "cell_type": "markdown",
   "metadata": {},
   "source": [
    "## 1. Solution\n",
    "\n",
    "In order to solve this task I did some initial research looking for sample code that would provide a solution. After a few hours I had sourced five code samples before deciding on one from geeksforgeeks.org [2]. \n",
    "\n",
    "I modified the input to check how the function would deal with integers and floats as well. Initally the code failed, this I found out was due to a format issue.\n",
    "\n",
    "In Python the `%` operator is used to format a set of variables enclosed in a \"tuple\" (a fixed size list), together with a format string, which contains normal text together with \"argument specifiers\", special symbols like `%s` and `%d`. So in this case I had to change the original code from `%d` to `%s`. [5]\n",
    "\n",
    "Here are some basic argument specifiers:\n",
    "\n",
    "%s - String (or any object with a string representation, like numbers)\n",
    "\n",
    "%d - Integers\n",
    "\n",
    "%f - Floating point numbers\n",
    "\n",
    "%.<number of digits>f - Floating point numbers with a fixed amount of digits to the right of the dot.\n",
    "\n",
    "%x/%X - Integers in hex representation (lowercase/uppercase)"
   ]
  },
  {
   "cell_type": "code",
   "execution_count": 1,
   "metadata": {},
   "outputs": [],
   "source": [
    "# define the function\n",
    "def counts(my_list):\n",
    "    \n",
    "# create a blank dictionary\n",
    "    freq = {}\n",
    "\n",
    "# create for loop\n",
    "    for item in my_list:\n",
    "        if (item in freq):\n",
    "            freq[item] += 1\n",
    "        else:\n",
    "            freq[item] = 1\n",
    "\n",
    "# Iterate over key/value pairs in dictionary and print them\n",
    "    for key, value in freq.items():\n",
    "        print (\"% s : % s\"%(key, value))\n",
    "\n",
    "# list of items to count\n",
    "my_list =['A', 'A', 'B', 'C', 'A', 1, 2, 3, 2, 'python', 4.5, 6.5, 'B']"
   ]
  },
  {
   "cell_type": "markdown",
   "metadata": {},
   "source": [
    "Lets have a look at the output of the function."
   ]
  },
  {
   "cell_type": "code",
   "execution_count": 2,
   "metadata": {},
   "outputs": [
    {
     "name": "stdout",
     "output_type": "stream",
     "text": [
      "A : 3\n",
      "B : 2\n",
      "C : 1\n",
      "1 : 1\n",
      "2 : 2\n",
      "3 : 1\n",
      "python : 1\n",
      "4.5 : 1\n",
      "6.5 : 1\n"
     ]
    }
   ],
   "source": [
    "counts(my_list)"
   ]
  },
  {
   "cell_type": "markdown",
   "metadata": {},
   "source": [
    "---\n",
    "## 2. Explanation\n",
    "\n",
    "#### 2.1 Function\n",
    "I've outlined below how the algorithm works and broken it in to sections for ease of use. First up was to define the function.\n",
    "\n",
    "```python\n",
    " def counts(my_list):\n",
    "```\n",
    "\n",
    "A function in Python is defined using the `def` keyword. A function is a block of code which only runs when it is called. You can pass data, known as parameters, into a function. A function can return data as a result. In this function it is called `counts`. Information can be passed into functions as arguments. Arguments are specified after the function name, inside the parentheses. You can add as many arguments as you want, just separate them with a comma. In this function we have one argument called `(my_list)`.\n",
    "\n",
    "#### 2.2 Dictionary\n",
    "The code also creates a dictionary called `freq`. A dictionary is a collection which is unordered, changeable and indexed. In Python dictionaries are written with curly brackets, and they have keys and values.\n",
    "\n",
    "```python\n",
    "    freq = {}\n",
    "```\n",
    "\n",
    "It is best to think of a dictionary as a set of key: value pairs, with the requirement that the keys are unique (within one dictionary). Placing a comma-separated list of key:value pairs within the braces adds initial key:value pairs to the dictionary; this is also the way dictionaries are written on output.[6]\n",
    "\n"
   ]
  },
  {
   "cell_type": "markdown",
   "metadata": {},
   "source": [
    "#### 2.3 For Loop\n",
    "Next up the code uses a for loop to iterate over each item in the list. At each iteration, check if item is in an initially empty dictionary. If it is, use dictionary `item` += 1 to add 1 to the value to which item maps. Otherwise, use dictionary `item` = 1 to add item to dictionary with the value 1. The `items()` method is used to return the list with all dictionary keys with values. [8]\n",
    "```python\n",
    "for item in my_list:\n",
    "        if (item in freq):\n",
    "            freq[item] += 1\n",
    "        else:\n",
    "            freq[item] = 1\n",
    "```"
   ]
  },
  {
   "cell_type": "markdown",
   "metadata": {},
   "source": [
    "#### 2.4 Keys and Values\n",
    "The next section captures the items as the keys of the dictionary `freq` and their frequencies as the values.\n",
    "```python\n",
    "    for key, value in freq.items():\n",
    "        print (\"% s : % s\"%(key, value))\n",
    "```"
   ]
  },
  {
   "cell_type": "markdown",
   "metadata": {},
   "source": [
    "## 3. References"
   ]
  },
  {
   "cell_type": "markdown",
   "metadata": {},
   "source": [
    "[1] GeeksforGeeks. 2020. Python | *Get Unique Values From List Of Dictionary - Geeksforgeeks*. [online] Available at: <https://www.geeksforgeeks.org/python-get-unique-values-from-list-of-dictionary/> [Accessed 7 October 2020]."
   ]
  },
  {
   "cell_type": "markdown",
   "metadata": {},
   "source": [
    "[2] GeeksforGeeks. 2020. *Counting The Frequencies In A List Using Dictionary In Python - Geeksforgeeks*. [online] Available at: <https://www.geeksforgeeks.org/counting-the-frequencies-in-a-list-using-dictionary-in-python/> [Accessed 6 October 2020]."
   ]
  },
  {
   "cell_type": "markdown",
   "metadata": {},
   "source": [
    "[3] Elance, P., 2019. *Counting The Frequencies In A List Using Dictionary In Python*. [online] Tutorialspoint.com. Available at: <https://www.tutorialspoint.com/counting-the-frequencies-in-a-list-using-dictionary-in-python> [Accessed 6 October 2020]."
   ]
  },
  {
   "cell_type": "markdown",
   "metadata": {},
   "source": [
    "[4] Techie Delight. 2020. *Count Occurrences Of An Item In A Python List - Techie Delight*. [online] Available at: <https://www.techiedelight.com/count-occurrences-of-an-item-in-a-python-list/> [Accessed 7 October 2020]."
   ]
  },
  {
   "cell_type": "markdown",
   "metadata": {},
   "source": [
    "[5] Learnpython.org. 2020. *String Formatting - Learn Python - Free Interactive Python Tutorial*. [online] Available at: <https://www.learnpython.org/en/String_Formatting> [Accessed 8 October 2020]."
   ]
  },
  {
   "cell_type": "markdown",
   "metadata": {},
   "source": [
    "[6] W3schools.com. 2020. *Python Dictionaries*. [online] Available at: <https://www.w3schools.com/python/python_dictionaries.asp> [Accessed 11 October 2020]."
   ]
  },
  {
   "cell_type": "markdown",
   "metadata": {},
   "source": [
    "[7] Docs.python.org. 2020. 5. *Data Structures — Python 3.9.0 Documentation*. [online] Available at: <https://docs.python.org/3/tutorial/datastructures.html> [Accessed 11 October 2020]."
   ]
  },
  {
   "cell_type": "markdown",
   "metadata": {},
   "source": [
    "[8] Kite.com. 2020. *Code Faster With Line-Of-Code Completions, Cloudless Processing*. [online] Available at: <https://www.kite.com/python/answers/how-to-count-item-frequency-in-python> [Accessed 10 October 2020]."
   ]
  },
  {
   "cell_type": "markdown",
   "metadata": {},
   "source": [
    "[9] GeeksforGeeks. 2020. *Python Dictionary | Items() Method - Geeksforgeeks*. [online] Available at: <https://www.geeksforgeeks.org/python-dictionary-items-method/> [Accessed 11 October 2020]."
   ]
  },
  {
   "cell_type": "markdown",
   "metadata": {},
   "source": [
    "[10] Edureka. 2020. *What Is The Main Function In Python And How To Use It | Edureka*. [online] Available at: <https://www.edureka.co/blog/python-main-function/> [Accessed 11 October 2020]."
   ]
  },
  {
   "cell_type": "markdown",
   "metadata": {},
   "source": [
    "[11] Cite This For Me. 2020. *Save Time And Improve Your Marks With Citethisforme, The No. 1 Citation Tool*. [online] Available at: <https://www.citethisforme.com/> [Accessed 7 October 2020]."
   ]
  },
  {
   "cell_type": "markdown",
   "metadata": {},
   "source": [
    "[12] Okada, S., 2020. *7 Essential Tips For Writing With Jupyter Notebook*. [online] Medium. Available at: <https://towardsdatascience.com/7-essential-tips-for-writing-with-jupyter-notebook-60972a1a8901#7aff> [Accessed 11 October 2020]."
   ]
  },
  {
   "cell_type": "markdown",
   "metadata": {},
   "source": [
    "[13] Pythontutor.com. 2020. *Python Tutor - Visualize Python, Java, Javascript, C, C++, Ruby Code Execution*. [online] Available at: <http://www.pythontutor.com/visualize.html#mode=display> [Accessed 7 October 2020]."
   ]
  },
  {
   "cell_type": "markdown",
   "metadata": {},
   "source": [
    "---"
   ]
  },
  {
   "cell_type": "markdown",
   "metadata": {},
   "source": [
    "## Task 2\n",
    "\n",
    "Write a Python function called dicerolls that simulates rolling dice. Your function should take two parameters: the number of dice `k` and the number of times to roll the dice `n`. The function should simulate randomly rolling `k` dice `n` times, keeping track of each total face value. It should then return a dictionary with the number of times each possible total face value occurred. So, calling the function as diceroll `(k=2, n=1000)` should return a dictionary like: `{2:19,3:50,4:82,5:112,6:135,7:174,8:133,9:114,10:75,11:70,12:36}`\n",
    "You can use any module from the Python standard library you wish and you should include a description with references of your algorithm in the notebook.\n",
    "\n",
    "---"
   ]
  },
  {
   "cell_type": "markdown",
   "metadata": {},
   "source": [
    "## 1. Solution"
   ]
  },
  {
   "cell_type": "code",
   "execution_count": 3,
   "metadata": {},
   "outputs": [],
   "source": [
    "#import numpy library\n",
    "import numpy as np\n",
    "\n",
    "# Use numpy random number generator\n",
    "rng = np.random.default_rng()\n",
    "\n",
    "# define the function\n",
    "def dicerolls():\n",
    "\n",
    "# create a blank dictionary\n",
    "    diceroll={}\n",
    "\n",
    "# create for loop\n",
    "    for i in range(1000):\n",
    "        d1=rng.integers(1,7)\n",
    "        d2=rng.integers(1,7)\n",
    "        diceroll[d1+d2] = diceroll.setdefault(d1+d2,0)+1\n",
    "\n",
    "# Iterate over key/value pairs in dictionary and print them\n",
    "    for roll, count in diceroll.items():\n",
    "        print (\"% s : % s\"%(roll, count))"
   ]
  },
  {
   "cell_type": "code",
   "execution_count": 4,
   "metadata": {},
   "outputs": [
    {
     "name": "stdout",
     "output_type": "stream",
     "text": [
      "9 : 114\n",
      "5 : 119\n",
      "8 : 133\n",
      "10 : 80\n",
      "2 : 34\n",
      "6 : 139\n",
      "7 : 171\n",
      "11 : 53\n",
      "12 : 24\n",
      "3 : 56\n",
      "4 : 77\n"
     ]
    }
   ],
   "source": [
    "dicerolls()"
   ]
  },
  {
   "cell_type": "markdown",
   "metadata": {},
   "source": [
    "---\n",
    "## 2. Explanation\n",
    "\n",
    "#### 2.1 Numpy library and random number generator\n",
    "\n",
    "I've outlined below how the algorithm works and broken it in to sections for ease of use. First up was to import numpy and the random number generator (RNG). This will be used to simulate the dicerolls in the function.\n",
    "\n",
    "```python\n",
    "import numpy as np\n",
    "rng = np.random.default_rng()```"
   ]
  },
  {
   "cell_type": "markdown",
   "metadata": {},
   "source": [
    "#### 2.2 Function\n",
    "\n",
    "In Task 1 I covered what a function is, so I won't repeat that here. For this task I start be defining the function `dicerolls` unlike in Task 1 there are no arguments.\n",
    "\n",
    "```python\n",
    "def dicerolls():```"
   ]
  },
  {
   "cell_type": "markdown",
   "metadata": {},
   "source": [
    "#### 2.3 For Loop\n",
    "\n",
    "Next up the code uses a for loop to iterate over each item in the list. At each iteration, check if item is in an initially empty dictionary. The `setdefault` method is used for setting defaults while or after filling the dictionary. This will store the results of the simulate dice rolls.\n",
    "\n",
    "```Python\n",
    " for i in range(1000):\n",
    "        d1=rng.integers(1,7)\n",
    "        d2=rng.integers(1,7)\n",
    "        diceroll[d1+d2] = diceroll.setdefault(d1+d2,0)+1\n",
    "```\n"
   ]
  },
  {
   "cell_type": "markdown",
   "metadata": {},
   "source": [
    "## 3. References"
   ]
  },
  {
   "cell_type": "markdown",
   "metadata": {},
   "source": [
    "[1] Data Science Unlimited. 2020. *Step By Step: Coding A Dice Roll Simulator In Python | Examples For Beginners*. [online] Available at: <https://datascienceunlimited.tech/step-by-step-coding-a-dice-roll-simulator-in-python/> [Accessed 4 November 2020]."
   ]
  },
  {
   "cell_type": "markdown",
   "metadata": {},
   "source": [
    "[2] Medium. 2020. *How To Simulate A Dice Roll And Guess The Result In Python*. [online] Available at: <https://medium.com/an-amygdala/how-to-simulate-a-dice-roll-and-guess-the-result-in-python-9785079af6f3> [Accessed 4 November 2020]."
   ]
  },
  {
   "cell_type": "markdown",
   "metadata": {},
   "source": [
    "[3] Codegrepper.com. 2020. *Dice Rolling Simulator Python Code Example*. [online] Available at: <https://www.codegrepper.com/code-examples/python/dice+rolling+simulator+python> [Accessed 5 November 2020]."
   ]
  },
  {
   "cell_type": "markdown",
   "metadata": {},
   "source": [
    "[4] Pythonfiddle.com. 2020. *Mike's Dice Stats | Python Fiddle*. [online] Available at: <http://pythonfiddle.com/mikes-dice-stats/> [Accessed 5 November 2020]."
   ]
  },
  {
   "cell_type": "markdown",
   "metadata": {},
   "source": [
    "[5] Pieters, M., 2020. *Simulating Rolling 2 Dice In Python*. [online] Stack Overflow. Available at: <https://stackoverflow.com/questions/33069476/simulating-rolling-2-dice-in-python> [Accessed 5 November 2020]."
   ]
  },
  {
   "cell_type": "markdown",
   "metadata": {},
   "source": [
    "[6] Lin, S., 2020. *Program That Simulates Rolling A Dice, And Tells You How Many Times You Roll Each Number*. [online] Stack Overflow. Available at: <https://stackoverflow.com/questions/27220489/program-that-simulates-rolling-a-dice-and-tells-you-how-many-times-you-roll-eac> [Accessed 6 November 2020]."
   ]
  },
  {
   "cell_type": "markdown",
   "metadata": {},
   "source": [
    "[7] Hplgit.github.io. 2020. *Random Numbers And Simple Games*. [online] Available at: <http://hplgit.github.io/primer.html/doc/pub/random/._random-readable004.html> [Accessed 6 November 2020]."
   ]
  },
  {
   "cell_type": "markdown",
   "metadata": {},
   "source": [
    "[8] Darklinkdigital.com. 2020. *Python Dice Functions*. [online] Available at: <http://www.darklinkdigital.com/py-dice-functions.html> [Accessed 6 November 2020]."
   ]
  },
  {
   "cell_type": "markdown",
   "metadata": {},
   "source": [
    "[9] Iditect.com. 2020. *Python - Rolled 2 6-Side Die 1000 Times*. [online] Available at: <https://www.iditect.com/how-to/55151873.html> [Accessed 5 November 2020]."
   ]
  },
  {
   "cell_type": "markdown",
   "metadata": {},
   "source": [
    "[10] BBC Bitesize. 2020. *Functions In Python - Procedures And Functions - KS3 Computer Science Revision - BBC Bitesize*. [online] Available at: <https://www.bbc.co.uk/bitesize/guides/zqh49j6/revision/6> [Accessed 5 November 2020]."
   ]
  },
  {
   "cell_type": "markdown",
   "metadata": {},
   "source": [
    "[11] Stack Overflow. 2020. *Rolling 2 Dice 1000 Times And Counting The Number Of Times The Sum Of The Two Dice Hit*. [online] Available at: <https://stackoverflow.com/questions/60343980/rolling-2-dice-1000-times-and-counting-the-number-of-times-the-sum-of-the-two-di> [Accessed 5 November 2020]."
   ]
  },
  {
   "cell_type": "markdown",
   "metadata": {},
   "source": [
    "## Task 3\n",
    "\n",
    "The `numpy.random.binomial` function can be used to simulate flipping a coin with a 50/50 chance of heads or tails. Interestingly, if a coin is flipped many times then the number of heads is well approximated by a bell-shaped curve. For instance, if we flip a coin 100 times in a row the chance of getting 50 heads is relatively high, the chances of getting 0 or 100 heads is relatively low, and the chances of getting any other number of heads decreases as you move away from 50 in either direction towards 0 or 100.\n",
    "\n",
    "Write some python code that simulates flipping a coin 100 times. Then run this code 1,000 times, keeping trackof the number of heads in each of the 1,000 simulations. Select an appropriate plot to depict the resulting list of 1,000 numbers, showing that it roughly follows a bell-shaped curve. You should explain your work in a Markdown cell above the code.\n",
    "\n",
    "---"
   ]
  },
  {
   "cell_type": "markdown",
   "metadata": {},
   "source": [
    "## 3. References"
   ]
  },
  {
   "cell_type": "markdown",
   "metadata": {},
   "source": [
    "[1] Python and R Tips. 2018. *Simulating Coin Toss Experiment In Python With Numpy - Python And R Tips*. [online] Available at: <https://cmdlinetips.com/2018/12/simulating-coin-toss-experiment-with-binomial-random-numbers-using-numpy/> [Accessed 17 November 2020]."
   ]
  },
  {
   "cell_type": "markdown",
   "metadata": {},
   "source": [
    "[2] Medium. 2019. *How To Code A Fair Coin Flip In Python*. [online] Available at: <https://towardsdatascience.com/how-to-code-a-fair-coin-flip-in-python-d54312f33da9> [Accessed 17 November 2020]."
   ]
  },
  {
   "cell_type": "markdown",
   "metadata": {},
   "source": [
    "Umayanga, T., 2020. *What Is Binomial Distribution And How To Plot It Using Python*. [online] Medium. Available at: <https://medium.com/@tharakau/what-is-binomial-distribution-and-how-to-plot-it-using-python-e9d95bd341ee> [Accessed 17 November 2020]."
   ]
  },
  {
   "cell_type": "code",
   "execution_count": null,
   "metadata": {},
   "outputs": [],
   "source": []
  }
 ],
 "metadata": {
  "kernelspec": {
   "display_name": "Python 3",
   "language": "python",
   "name": "python3"
  },
  "language_info": {
   "codemirror_mode": {
    "name": "ipython",
    "version": 3
   },
   "file_extension": ".py",
   "mimetype": "text/x-python",
   "name": "python",
   "nbconvert_exporter": "python",
   "pygments_lexer": "ipython3",
   "version": "3.8.3"
  },
  "toc": {
   "base_numbering": 1,
   "nav_menu": {},
   "number_sections": false,
   "sideBar": true,
   "skip_h1_title": false,
   "title_cell": "Table of Contents",
   "title_sidebar": "Contents",
   "toc_cell": false,
   "toc_position": {},
   "toc_section_display": true,
   "toc_window_display": true
  }
 },
 "nbformat": 4,
 "nbformat_minor": 4
}
