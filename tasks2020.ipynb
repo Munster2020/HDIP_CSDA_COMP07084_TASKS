{
 "cells": [
  {
   "cell_type": "markdown",
   "metadata": {},
   "source": [
    "![](GMIT_Logo.jpg)\n",
    "\n",
    "## Higher Diploma in Science in Computing (Data Analytics)\n",
    "### Programme Module: Fundamentals of Data Analysis (COMP07084) \n",
    "### Task 1 \n",
    "Write a Python function called counts that takes a list as input and returns a dictionary of unique items in the list as keys and the number of times each item appears as values.  So, the input ['A','A','B','C','A'] should have output {'A': 3,'B': 1,'C': 1}.  Your code should not depend on any module from the standard library or otherwise.   You should research he task first and include a description with references of your algorithm in the notebook.\n"
   ]
  },
  {
   "cell_type": "markdown",
   "metadata": {},
   "source": [
    "### Solution"
   ]
  },
  {
   "cell_type": "markdown",
   "metadata": {},
   "source": [
    "In order to solve this task I did some initial research looking for sample code that would provide a solution. After a few hours I had sourced five code samples before deciding on one from geeksforgeeks.org. I modified the input to check how the function would deal with integers and floats as well. Initally the code failed, this I found out was due to a format issue.\n",
    "\n",
    "In Python the `%` operator is used to format a set of variables enclosed in a \"tuple\" (a fixed size list), together with a format string, which contains normal text together with \"argument specifiers\", special symbols like `%s` and `%d`. So in this case I had to change the original code from `%d` to `%s`.\n",
    "\n",
    "Here are some basic argument specifiers you should know:\n",
    "\n",
    "%s - String (or any object with a string representation, like numbers)\n",
    "\n",
    "%d - Integers\n",
    "\n",
    "%f - Floating point numbers\n",
    "\n",
    "%.<number of digits>f - Floating point numbers with a fixed amount of digits to the right of the dot.\n",
    "\n",
    "%x/%X - Integers in hex representation (lowercase/uppercase)\n",
    "\n"
   ]
  },
  {
   "cell_type": "code",
   "execution_count": 5,
   "metadata": {},
   "outputs": [
    {
     "name": "stdout",
     "output_type": "stream",
     "text": [
      "A : 3\n",
      "B : 2\n",
      "C : 1\n",
      "1 : 1\n",
      "2 : 2\n",
      "3 : 1\n",
      "python : 1\n",
      "4.5 : 1\n",
      "6.5 : 1\n"
     ]
    }
   ],
   "source": [
    " def counts(my_list):\n",
    "    freq = {}\n",
    "    for item in my_list:\n",
    "        if (item in freq):\n",
    "            freq[item] += 1\n",
    "        else:\n",
    "            freq[item] = 1\n",
    "\n",
    "    for key, value in freq.items():\n",
    "        print (\"% s : % s\"%(key, value))\n",
    "\n",
    "if __name__ == \"__main__\":\n",
    "    my_list =['A', 'A', 'B', 'C', 'A', 1, 2, 3, 2, 'python', 4.5, 6.5, 'B']\n",
    "\n",
    "    counts(my_list)"
   ]
  },
  {
   "cell_type": "markdown",
   "metadata": {},
   "source": [
    "### Explanation"
   ]
  },
  {
   "cell_type": "markdown",
   "metadata": {},
   "source": [
    "A function in Python is defined using the `def` keyword. A function is a block of code which only runs when it is called. You can pass data, known as parameters, into a function. A function can return data as a result. In this function it is called `counts`. Information can be passed into functions as arguments. Arguments are specified after the function name, inside the parentheses. You can add as many arguments as you want, just separate them with a comma. In this function we have one argument called `(my_list)`.\n",
    "\n",
    "The code also creates a dictionary called `freq`. A dictionary is a collection which is unordered, changeable and indexed. In Python dictionaries are written with curly brackets, and they have keys and values. It is best to think of a dictionary as a set of key: value pairs, with the requirement that the keys are unique (within one dictionary). Placing a comma-separated list of key:value pairs within the braces adds initial key:value pairs to the dictionary; this is also the way dictionaries are written on output.\n",
    "\n",
    "\n",
    "```python\n",
    " def counts(my_list):\n",
    "    freq = {}\n",
    "```\n",
    "\n"
   ]
  },
  {
   "cell_type": "markdown",
   "metadata": {},
   "source": [
    "Next up the code uses a for-loop to iterate over each item in the list. At each iteration, check if item is in an initially empty dictionary. If it is, use dictionary `item` += 1 to add 1 to the value to which item maps. Otherwise, use dictionary `item` = 1 to add item to dictionary with the value 1. The `items()` method is used to return the list with all dictionary keys with values.\n",
    "```python\n",
    "for item in my_list:\n",
    "        if (item in freq):\n",
    "            freq[item] += 1\n",
    "        else:\n",
    "            freq[item] = 1\n",
    "```"
   ]
  },
  {
   "cell_type": "markdown",
   "metadata": {},
   "source": [
    "This section captures the items as the keys of the dictionary `freq` and their frequencies as the values."
   ]
  },
  {
   "cell_type": "markdown",
   "metadata": {},
   "source": [
    "```python\n",
    "    for key, value in freq.items():\n",
    "        print (\"% s : % s\"%(key, value))\n",
    "```"
   ]
  },
  {
   "cell_type": "markdown",
   "metadata": {},
   "source": [
    "```python\n",
    "if __name__ == \"__main__\":\n",
    "    my_list =['A', 'A', 'B', 'C', 'A', 1, 2, 3, 2, 'python', 4.5, 6.5, 'B']\n",
    "\n",
    "    counts(my_list)\n",
    "```"
   ]
  },
  {
   "cell_type": "markdown",
   "metadata": {},
   "source": [
    "### References"
   ]
  },
  {
   "cell_type": "markdown",
   "metadata": {},
   "source": [
    "[1] GeeksforGeeks. 2020. Python | Get Unique Values From List Of Dictionary - Geeksforgeeks. [online] Available at: <https://www.geeksforgeeks.org/python-get-unique-values-from-list-of-dictionary/> [Accessed 7 October 2020]."
   ]
  },
  {
   "cell_type": "markdown",
   "metadata": {},
   "source": [
    "[2] GeeksforGeeks. 2020. Counting The Frequencies In A List Using Dictionary In Python - Geeksforgeeks. [online] Available at: <https://www.geeksforgeeks.org/counting-the-frequencies-in-a-list-using-dictionary-in-python/> [Accessed 6 October 2020]."
   ]
  },
  {
   "cell_type": "markdown",
   "metadata": {},
   "source": [
    "[3] Elance, P., 2019. Counting The Frequencies In A List Using Dictionary In Python. [online] Tutorialspoint.com. Available at: <https://www.tutorialspoint.com/counting-the-frequencies-in-a-list-using-dictionary-in-python> [Accessed 6 October 2020]."
   ]
  },
  {
   "cell_type": "markdown",
   "metadata": {},
   "source": [
    "[4] Techie Delight. 2020. Count Occurrences Of An Item In A Python List - Techie Delight. [online] Available at: <https://www.techiedelight.com/count-occurrences-of-an-item-in-a-python-list/> [Accessed 7 October 2020]."
   ]
  },
  {
   "cell_type": "markdown",
   "metadata": {},
   "source": [
    "[5] Learnpython.org. 2020. String Formatting - Learn Python - Free Interactive Python Tutorial. [online] Available at: <https://www.learnpython.org/en/String_Formatting> [Accessed 8 October 2020]."
   ]
  },
  {
   "cell_type": "markdown",
   "metadata": {},
   "source": [
    "[6] W3schools.com. 2020. Python Dictionaries. [online] Available at: <https://www.w3schools.com/python/python_dictionaries.asp> [Accessed 11 October 2020]."
   ]
  },
  {
   "cell_type": "markdown",
   "metadata": {},
   "source": [
    "[7] Docs.python.org. 2020. 5. Data Structures — Python 3.9.0 Documentation. [online] Available at: <https://docs.python.org/3/tutorial/datastructures.html> [Accessed 11 October 2020]."
   ]
  },
  {
   "cell_type": "markdown",
   "metadata": {},
   "source": [
    "[8] Kite.com. 2020. Code Faster With Line-Of-Code Completions, Cloudless Processing. [online] Available at: <https://www.kite.com/python/answers/how-to-count-item-frequency-in-python> [Accessed 10 October 2020]."
   ]
  },
  {
   "cell_type": "markdown",
   "metadata": {},
   "source": [
    "[9] GeeksforGeeks. 2020. Python Dictionary | Items() Method - Geeksforgeeks. [online] Available at: <https://www.geeksforgeeks.org/python-dictionary-items-method/> [Accessed 11 October 2020]."
   ]
  },
  {
   "cell_type": "markdown",
   "metadata": {},
   "source": [
    "[10] Edureka. 2020. What Is The Main Function In Python And How To Use It | Edureka. [online] Available at: <https://www.edureka.co/blog/python-main-function/> [Accessed 11 October 2020]."
   ]
  },
  {
   "cell_type": "markdown",
   "metadata": {},
   "source": [
    "[11] Cite This For Me. 2020. Save Time And Improve Your Marks With Citethisforme, The No. 1 Citation Tool. [online] Available at: <https://www.citethisforme.com/> [Accessed 7 October 2020]."
   ]
  },
  {
   "cell_type": "markdown",
   "metadata": {},
   "source": [
    "[12] Okada, S., 2020. 7 Essential Tips For Writing With Jupyter Notebook. [online] Medium. Available at: <https://towardsdatascience.com/7-essential-tips-for-writing-with-jupyter-notebook-60972a1a8901#7aff> [Accessed 11 October 2020]."
   ]
  },
  {
   "cell_type": "markdown",
   "metadata": {},
   "source": [
    "Test"
   ]
  },
  {
   "cell_type": "code",
   "execution_count": null,
   "metadata": {},
   "outputs": [],
   "source": []
  }
 ],
 "metadata": {
  "kernelspec": {
   "display_name": "Python 3",
   "language": "python",
   "name": "python3"
  },
  "language_info": {
   "codemirror_mode": {
    "name": "ipython",
    "version": 3
   },
   "file_extension": ".py",
   "mimetype": "text/x-python",
   "name": "python",
   "nbconvert_exporter": "python",
   "pygments_lexer": "ipython3",
   "version": "3.8.3"
  }
 },
 "nbformat": 4,
 "nbformat_minor": 4
}
