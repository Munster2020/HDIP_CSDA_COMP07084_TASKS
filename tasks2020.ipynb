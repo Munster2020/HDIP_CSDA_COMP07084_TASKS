{
 "cells": [
  {
   "cell_type": "markdown",
   "metadata": {},
   "source": [
    "![](GMIT_Logo.jpg)\n",
    "\n",
    "# Higher Diploma in Science in Computing (Data Analytics)\n",
    "#### Programme Module: Fundamentals of Data Analysis (COMP07084) \n",
    "---"
   ]
  },
  {
   "cell_type": "markdown",
   "metadata": {},
   "source": [
    "## Table of contents"
   ]
  },
  {
   "cell_type": "markdown",
   "metadata": {
    "toc": true
   },
   "source": [
    "<h1><span class=\"tocSkip\"></span></h1>\n",
    "<div class=\"toc\"><ul class=\"toc-item\"><li><span><a href=\"#Higher-Diploma-in-Science-in-Computing-(Data-Analytics)\" data-toc-modified-id=\"Higher-Diploma-in-Science-in-Computing-(Data-Analytics)-1\">Higher Diploma in Science in Computing (Data Analytics)</a></span><ul class=\"toc-item\"><li><ul class=\"toc-item\"><li><ul class=\"toc-item\"><li><span><a href=\"#Programme-Module:-Fundamentals-of-Data-Analysis-(COMP07084)\" data-toc-modified-id=\"Programme-Module:-Fundamentals-of-Data-Analysis-(COMP07084)-1.0.0.1\">Programme Module: Fundamentals of Data Analysis (COMP07084)</a></span></li></ul></li></ul></li><li><span><a href=\"#Table-of-contents\" data-toc-modified-id=\"Table-of-contents-1.1\">Table of contents</a></span></li><li><span><a href=\"#Task-1\" data-toc-modified-id=\"Task-1-1.2\">Task 1</a></span></li><li><span><a href=\"#1.-Solution\" data-toc-modified-id=\"1.-Solution-1.3\">1. Solution</a></span></li><li><span><a href=\"#2.-Explanation\" data-toc-modified-id=\"2.-Explanation-1.4\">2. Explanation</a></span><ul class=\"toc-item\"><li><ul class=\"toc-item\"><li><span><a href=\"#2.1-Function\" data-toc-modified-id=\"2.1-Function-1.4.0.1\">2.1 Function</a></span></li><li><span><a href=\"#2.2-Dictionary\" data-toc-modified-id=\"2.2-Dictionary-1.4.0.2\">2.2 Dictionary</a></span></li><li><span><a href=\"#2.3-For-Loop\" data-toc-modified-id=\"2.3-For-Loop-1.4.0.3\">2.3 For Loop</a></span></li><li><span><a href=\"#2.4-Keys-and-Values\" data-toc-modified-id=\"2.4-Keys-and-Values-1.4.0.4\">2.4 Keys and Values</a></span></li><li><span><a href=\"#2.5-List\" data-toc-modified-id=\"2.5-List-1.4.0.5\">2.5 List</a></span></li></ul></li></ul></li><li><span><a href=\"#3.-References\" data-toc-modified-id=\"3.-References-1.5\">3. References</a></span></li><li><span><a href=\"#Task-2\" data-toc-modified-id=\"Task-2-1.6\">Task 2</a></span></li><li><span><a href=\"#1.-Solution\" data-toc-modified-id=\"1.-Solution-1.7\">1. Solution</a></span></li><li><span><a href=\"#2.-Explanation\" data-toc-modified-id=\"2.-Explanation-1.8\">2. Explanation</a></span><ul class=\"toc-item\"><li><ul class=\"toc-item\"><li><span><a href=\"#2.1-Numpy-library-and-random-number-generator\" data-toc-modified-id=\"2.1-Numpy-library-and-random-number-generator-1.8.0.1\">2.1 Numpy library and random number generator</a></span></li><li><span><a href=\"#2.2-Function\" data-toc-modified-id=\"2.2-Function-1.8.0.2\">2.2 Function</a></span></li><li><span><a href=\"#2.3-For-Loop\" data-toc-modified-id=\"2.3-For-Loop-1.8.0.3\">2.3 For Loop</a></span></li><li><span><a href=\"#2.4-Keys-and-Values\" data-toc-modified-id=\"2.4-Keys-and-Values-1.8.0.4\">2.4 Keys and Values</a></span></li></ul></li></ul></li><li><span><a href=\"#3.-References\" data-toc-modified-id=\"3.-References-1.9\">3. References</a></span></li><li><span><a href=\"#Task-3\" data-toc-modified-id=\"Task-3-1.10\">Task 3</a></span></li><li><span><a href=\"#3.-References\" data-toc-modified-id=\"3.-References-1.11\">3. References</a></span></li></ul></li></ul></div>"
   ]
  },
  {
   "cell_type": "markdown",
   "metadata": {},
   "source": [
    "## Task 1\n",
    "\n",
    "Write a Python function called counts that takes a list as input and returns a dictionary of unique items in the list as keys and the number of times each item appears as values.  So, the input ['A','A','B','C','A'] should have output {'A': 3,'B': 1,'C': 1}.  \n",
    "\n",
    "Your code should not depend on any module from the standard library or otherwise.   You should research he task first and include a description with references of your algorithm in the notebook."
   ]
  },
  {
   "cell_type": "markdown",
   "metadata": {},
   "source": [
    "<div class=\"alert alert-block alert-info\"><b>Addendum: </b> We were also asked to see if we could create a solution that could could use not just strings in the input but also integers or floats. </div> "
   ]
  },
  {
   "cell_type": "markdown",
   "metadata": {},
   "source": [
    "<div class=\"alert alert-block alert-info\"><b>Clarification: </b> You cannot use any part of the standard library that has to be imported. The Python documentation technically includes the built-in, non-language features in the standard library - even though they do not need to be imported: https://docs.python.org/3/library/. You can use any of these built-in features - just not anything you need to import. </div> "
   ]
  },
  {
   "cell_type": "markdown",
   "metadata": {},
   "source": [
    "---"
   ]
  },
  {
   "cell_type": "markdown",
   "metadata": {},
   "source": [
    "## 1. Solution\n",
    "\n",
    "In order to solve this task I did some initial research looking for sample code that would provide a solution. After a few hours I had sourced five code samples before deciding on one from geeksforgeeks.org [2]. \n",
    "\n",
    "I modified the input to check how the function would deal with integers and floats as well. Initally the code failed, this I found out was due to a format issue.\n",
    "\n",
    "In Python the `%` operator is used to format a set of variables enclosed in a \"tuple\" (a fixed size list), together with a format string, which contains normal text together with \"argument specifiers\", special symbols like `%s` and `%d`. So in this case I had to change the original code from `%d` to `%s`. [5]"
   ]
  },
  {
   "cell_type": "code",
   "execution_count": 1,
   "metadata": {
    "ExecuteTime": {
     "end_time": "2020-11-25T11:24:13.036886Z",
     "start_time": "2020-11-25T11:24:13.020624Z"
    }
   },
   "outputs": [],
   "source": [
    "# define the function\n",
    "def counts(my_list):\n",
    "\n",
    "    # create a blank dictionary\n",
    "    freq = {}\n",
    "\n",
    "# create for loop\n",
    "    for item in my_list:\n",
    "        if (item in freq):\n",
    "            freq[item] += 1\n",
    "        else:\n",
    "            freq[item] = 1\n",
    "\n",
    "# Iterate over key/value pairs in dictionary and print them\n",
    "    for key, value in freq.items():\n",
    "        print(\"% s : % s\" % (key, value))\n",
    "\n",
    "\n",
    "# list of items to count\n",
    "my_list = ['A', 'A', 'B', 'C', 'A', 1, 2, 3, 2, 'python', 4.5, 6.5, 'B']"
   ]
  },
  {
   "cell_type": "markdown",
   "metadata": {},
   "source": [
    "Lets have a look at the output of the function."
   ]
  },
  {
   "cell_type": "code",
   "execution_count": 2,
   "metadata": {
    "ExecuteTime": {
     "end_time": "2020-11-25T11:24:13.052648Z",
     "start_time": "2020-11-25T11:24:13.039869Z"
    }
   },
   "outputs": [
    {
     "name": "stdout",
     "output_type": "stream",
     "text": [
      "A : 3\n",
      "B : 2\n",
      "C : 1\n",
      "1 : 1\n",
      "2 : 2\n",
      "3 : 1\n",
      "python : 1\n",
      "4.5 : 1\n",
      "6.5 : 1\n"
     ]
    }
   ],
   "source": [
    "counts(my_list)"
   ]
  },
  {
   "cell_type": "markdown",
   "metadata": {},
   "source": [
    "---\n",
    "## 2. Explanation\n",
    "\n",
    "#### 2.1 Function\n",
    "I've outlined below how the algorithm works and broken it in to sections for ease of use. First up was to define the function.\n",
    "\n",
    "```python\n",
    " def counts(my_list):\n",
    "```\n",
    "\n",
    "A function in Python is defined using the `def` keyword. A function is a block of code which only runs when it is called. You can pass data, known as parameters, into a function. A function can return data as a result. In this example the function is called `counts`. Information can be passed into functions as arguments. Arguments are specified after the function name, inside the parentheses. You can add as many arguments as you want, just separate them with a comma. In this function we have one argument called `(my_list)`."
   ]
  },
  {
   "cell_type": "markdown",
   "metadata": {},
   "source": [
    "<div class=\"alert alert-block alert-info\"><b>Additional information: A function definition defines a user-defined function object. If you are looking for more detail on functions you can run the  help('def') statement in your own Jupyter notebook. </div>"
   ]
  },
  {
   "cell_type": "markdown",
   "metadata": {
    "ExecuteTime": {
     "end_time": "2020-11-25T09:05:06.365910Z",
     "start_time": "2020-11-25T09:05:06.350043Z"
    }
   },
   "source": [
    "#### 2.2 Dictionary\n",
    "The code also creates a dictionary called `freq`. A dictionary is a collection which is unordered, changeable and indexed. In Python dictionaries are written with curly brackets, and they have keys and values.\n",
    "\n",
    "```python\n",
    "    freq = {}\n",
    "```\n",
    "\n",
    "It is best to think of a dictionary as a set of key: value pairs, with the requirement that the keys are unique (within one dictionary). Placing a comma-separated list of key:value pairs within the braces adds initial key:value pairs to the dictionary; this is also the way dictionaries are written on output.[6]"
   ]
  },
  {
   "cell_type": "markdown",
   "metadata": {},
   "source": [
    "<div class=\"alert alert-block alert-info\"><b>Additional information: If you are looking for more detail on dictionaries(dicts) you can run the  help('dict') statement in your own Jupyter notebook. </div>"
   ]
  },
  {
   "cell_type": "markdown",
   "metadata": {},
   "source": [
    "#### 2.3 For Loop\n",
    "Next up the code uses a for loop to iterate over each item in the list. At each iteration, check if item is in an initially empty dictionary. If it is, use dictionary `item` += 1 to add 1 to the value to which item maps. Otherwise, use dictionary `item` = 1 to add item to dictionary with the value 1. The `items()` method is used to return the list with all dictionary keys with values. [8]\n",
    "\n",
    "```python\n",
    "for item in my_list:\n",
    "        if (item in freq):\n",
    "            freq[item] += 1\n",
    "        else:\n",
    "            freq[item] = 1\n",
    "```"
   ]
  },
  {
   "cell_type": "markdown",
   "metadata": {},
   "source": [
    "<div class=\"alert alert-block alert-info\"><b>Additional information: The \"for\" statement is used to iterate over the elements of a sequence (such as a string, tuple or list) or other iterable object. If you are looking for more detail on for loops you can run the  help('for') statement in your own Jupyter notebook. </div>"
   ]
  },
  {
   "cell_type": "markdown",
   "metadata": {},
   "source": [
    "#### 2.4 Keys and Values\n",
    "The next section captures the items as the keys of the dictionary `freq` and their frequencies as the values.\n",
    "```python\n",
    "    for key, value in freq.items():\n",
    "        print (\"% s : % s\"%(key, value))\n",
    "```"
   ]
  },
  {
   "cell_type": "markdown",
   "metadata": {},
   "source": [
    "#### 2.5 List\n",
    "This section of code contains the list of items to count in the function.\n",
    "\n",
    "```python\n",
    "my_list = ['A', 'A', 'B', 'C', 'A', 1, 2, 3, 2, 'python', 4.5, 6.5, 'B']\n",
    "```"
   ]
  },
  {
   "cell_type": "markdown",
   "metadata": {},
   "source": [
    "<div class=\"alert alert-block alert-info\"><b>Additional information: If you are looking for more detail on lists you can run the  help('list') statement in your own Jupyter notebook. </div>"
   ]
  },
  {
   "cell_type": "markdown",
   "metadata": {},
   "source": [
    "---"
   ]
  },
  {
   "cell_type": "markdown",
   "metadata": {},
   "source": [
    "## 3. References"
   ]
  },
  {
   "cell_type": "markdown",
   "metadata": {},
   "source": [
    "[1] GeeksforGeeks. 2020. Python | *Get Unique Values From List Of Dictionary - Geeksforgeeks*. [online] Available at: <https://www.geeksforgeeks.org/python-get-unique-values-from-list-of-dictionary/> [Accessed 7 October 2020]."
   ]
  },
  {
   "cell_type": "markdown",
   "metadata": {},
   "source": [
    "[2] GeeksforGeeks. 2020. *Counting The Frequencies In A List Using Dictionary In Python - Geeksforgeeks*. [online] Available at: <https://www.geeksforgeeks.org/counting-the-frequencies-in-a-list-using-dictionary-in-python/> [Accessed 6 October 2020]."
   ]
  },
  {
   "cell_type": "markdown",
   "metadata": {},
   "source": [
    "[3] Elance, P., 2019. *Counting The Frequencies In A List Using Dictionary In Python*. [online] Tutorialspoint.com. Available at: <https://www.tutorialspoint.com/counting-the-frequencies-in-a-list-using-dictionary-in-python> [Accessed 6 October 2020]."
   ]
  },
  {
   "cell_type": "markdown",
   "metadata": {},
   "source": [
    "[4] Techie Delight. 2020. *Count Occurrences Of An Item In A Python List - Techie Delight*. [online] Available at: <https://www.techiedelight.com/count-occurrences-of-an-item-in-a-python-list/> [Accessed 7 October 2020]."
   ]
  },
  {
   "cell_type": "markdown",
   "metadata": {},
   "source": [
    "[5] Learnpython.org. 2020. *String Formatting - Learn Python - Free Interactive Python Tutorial*. [online] Available at: <https://www.learnpython.org/en/String_Formatting> [Accessed 8 October 2020]."
   ]
  },
  {
   "cell_type": "markdown",
   "metadata": {},
   "source": [
    "[6] W3schools.com. 2020. *Python Dictionaries*. [online] Available at: <https://www.w3schools.com/python/python_dictionaries.asp> [Accessed 11 October 2020]."
   ]
  },
  {
   "cell_type": "markdown",
   "metadata": {},
   "source": [
    "[7] Docs.python.org. 2020. 5. *Data Structures — Python 3.9.0 Documentation*. [online] Available at: <https://docs.python.org/3/tutorial/datastructures.html> [Accessed 11 October 2020]."
   ]
  },
  {
   "cell_type": "markdown",
   "metadata": {},
   "source": [
    "[8] Kite.com. 2020. *Code Faster With Line-Of-Code Completions, Cloudless Processing*. [online] Available at: <https://www.kite.com/python/answers/how-to-count-item-frequency-in-python> [Accessed 10 October 2020]."
   ]
  },
  {
   "cell_type": "markdown",
   "metadata": {},
   "source": [
    "[9] GeeksforGeeks. 2020. *Python Dictionary | Items() Method - Geeksforgeeks*. [online] Available at: <https://www.geeksforgeeks.org/python-dictionary-items-method/> [Accessed 11 October 2020]."
   ]
  },
  {
   "cell_type": "markdown",
   "metadata": {},
   "source": [
    "[10] Edureka. 2020. *What Is The Main Function In Python And How To Use It | Edureka*. [online] Available at: <https://www.edureka.co/blog/python-main-function/> [Accessed 11 October 2020]."
   ]
  },
  {
   "cell_type": "markdown",
   "metadata": {},
   "source": [
    "[11] Cite This For Me. 2020. *Save Time And Improve Your Marks With Citethisforme, The No. 1 Citation Tool*. [online] Available at: <https://www.citethisforme.com/> [Accessed 7 October 2020]."
   ]
  },
  {
   "cell_type": "markdown",
   "metadata": {},
   "source": [
    "[12] Okada, S., 2020. *7 Essential Tips For Writing With Jupyter Notebook*. [online] Medium. Available at: <https://towardsdatascience.com/7-essential-tips-for-writing-with-jupyter-notebook-60972a1a8901#7aff> [Accessed 11 October 2020]."
   ]
  },
  {
   "cell_type": "markdown",
   "metadata": {},
   "source": [
    "[13] Pythontutor.com. 2020. *Python Tutor - Visualize Python, Java, Javascript, C, C++, Ruby Code Execution*. [online] Available at: <http://www.pythontutor.com/visualize.html#mode=display> [Accessed 7 October 2020]."
   ]
  },
  {
   "cell_type": "markdown",
   "metadata": {},
   "source": [
    "---"
   ]
  },
  {
   "cell_type": "markdown",
   "metadata": {},
   "source": [
    "## Task 2\n",
    "\n",
    "Write a Python function called dicerolls that simulates rolling dice. Your function should take two parameters: the number of dice `k` and the number of times to roll the dice `n`. The function should simulate randomly rolling `k` dice `n` times, keeping track of each total face value. It should then return a dictionary with the number of times each possible total face value occurred. So, calling the function as diceroll `(k=2, n=1000)` should return a dictionary like: `{2:19,3:50,4:82,5:112,6:135,7:174,8:133,9:114,10:75,11:70,12:36}`\n",
    "You can use any module from the Python standard library you wish and you should include a description with references of your algorithm in the notebook.\n",
    "\n",
    "---"
   ]
  },
  {
   "cell_type": "markdown",
   "metadata": {},
   "source": [
    "## 1. Solution"
   ]
  },
  {
   "cell_type": "code",
   "execution_count": 3,
   "metadata": {
    "ExecuteTime": {
     "end_time": "2020-11-25T11:24:13.300982Z",
     "start_time": "2020-11-25T11:24:13.068531Z"
    }
   },
   "outputs": [],
   "source": [
    "# import numpy library\n",
    "import numpy as np\n",
    "\n",
    "# Use numpy random number generator\n",
    "rng = np.random.default_rng()\n",
    "\n",
    "# define the function\n",
    "\n",
    "\n",
    "def dicerolls():\n",
    "\n",
    "    # create a blank dictionary\n",
    "    diceroll = {}\n",
    "\n",
    "# create for loop\n",
    "    for i in range(1000):\n",
    "        d1 = rng.integers(1, 7)\n",
    "        d2 = rng.integers(1, 7)\n",
    "        diceroll[d1+d2] = diceroll.setdefault(d1+d2, 0)+1\n",
    "\n",
    "# Iterate over key/value pairs in dictionary and print them\n",
    "    for roll, count in diceroll.items():\n",
    "        print(\"% s : % s\" % (roll, count))"
   ]
  },
  {
   "cell_type": "markdown",
   "metadata": {},
   "source": [
    "Lets have a look at the output of the function."
   ]
  },
  {
   "cell_type": "code",
   "execution_count": 4,
   "metadata": {
    "ExecuteTime": {
     "end_time": "2020-11-25T11:24:13.332395Z",
     "start_time": "2020-11-25T11:24:13.304972Z"
    }
   },
   "outputs": [
    {
     "name": "stdout",
     "output_type": "stream",
     "text": [
      "5 : 111\n",
      "9 : 120\n",
      "10 : 78\n",
      "12 : 30\n",
      "6 : 122\n",
      "4 : 87\n",
      "8 : 138\n",
      "7 : 174\n",
      "3 : 53\n",
      "2 : 31\n",
      "11 : 56\n"
     ]
    }
   ],
   "source": [
    "dicerolls()"
   ]
  },
  {
   "cell_type": "markdown",
   "metadata": {},
   "source": [
    "---\n",
    "## 2. Explanation\n",
    "\n",
    "#### 2.1 Numpy library and random number generator\n",
    "\n",
    "I've outlined below how the algorithm works and broken it in to sections for ease of use. First up was to import numpy and the random number generator (RNG). This will be used to simulate the dicerolls in the function.\n",
    "\n",
    "```python\n",
    "import numpy as np\n",
    "rng = np.random.default_rng()```"
   ]
  },
  {
   "cell_type": "markdown",
   "metadata": {},
   "source": [
    "<div class=\"alert alert-block alert-info\"><b>Additional information: If you are looking for more detail on random number generation in NumPy you can enter the following statement np.info(rng) statement in your own Jupyter notebook. </div>"
   ]
  },
  {
   "cell_type": "markdown",
   "metadata": {},
   "source": [
    "#### 2.2 Function\n",
    "\n",
    "In Task 1 I covered what a function is, so I won't repeat that here. For this task I start by defining the function `dicerolls` unlike in Task 1 there are no arguments.\n",
    "\n",
    "```python\n",
    "def dicerolls():```"
   ]
  },
  {
   "cell_type": "markdown",
   "metadata": {},
   "source": [
    "#### 2.3 For Loop\n",
    "\n",
    "Next up the code uses a for loop to iterate over each item in the list. At each iteration, check if item is in an initially empty dictionary. The `setdefault` method is used for setting defaults while or after filling the dictionary. This will store the results of the simulate dice rolls.\n",
    "\n",
    "```Python\n",
    " for i in range(1000):\n",
    "        d1=rng.integers(1,7)\n",
    "        d2=rng.integers(1,7)\n",
    "        diceroll[d1+d2] = diceroll.setdefault(d1+d2,0)+1\n",
    "```\n"
   ]
  },
  {
   "cell_type": "markdown",
   "metadata": {},
   "source": [
    "<div class=\"alert alert-block alert-info\"><b>Additional information: If you are looking for more detail on dictionaries(dicts) and (setdefault) you can run the  help('dict') statement in your own Jupyter notebook. </div>"
   ]
  },
  {
   "cell_type": "markdown",
   "metadata": {},
   "source": [
    "#### 2.4 Keys and Values\n",
    "\n",
    "The next section captures the items as the keys of the dictionary `diceroll` and their frequencies as the values.\n",
    "\n",
    "```Python\n",
    "    for roll, count in diceroll.items():\n",
    "        print(\"% s : % s\" % (roll, count))\n",
    "```"
   ]
  },
  {
   "cell_type": "markdown",
   "metadata": {},
   "source": [
    "## 3. References"
   ]
  },
  {
   "cell_type": "markdown",
   "metadata": {},
   "source": [
    "[1] Data Science Unlimited. 2020. *Step By Step: Coding A Dice Roll Simulator In Python | Examples For Beginners*. [online] Available at: <https://datascienceunlimited.tech/step-by-step-coding-a-dice-roll-simulator-in-python/> [Accessed 4 November 2020]."
   ]
  },
  {
   "cell_type": "markdown",
   "metadata": {},
   "source": [
    "[2] Medium. 2020. *How To Simulate A Dice Roll And Guess The Result In Python*. [online] Available at: <https://medium.com/an-amygdala/how-to-simulate-a-dice-roll-and-guess-the-result-in-python-9785079af6f3> [Accessed 4 November 2020]."
   ]
  },
  {
   "cell_type": "markdown",
   "metadata": {},
   "source": [
    "[3] Codegrepper.com. 2020. *Dice Rolling Simulator Python Code Example*. [online] Available at: <https://www.codegrepper.com/code-examples/python/dice+rolling+simulator+python> [Accessed 5 November 2020]."
   ]
  },
  {
   "cell_type": "markdown",
   "metadata": {},
   "source": [
    "[4] Pythonfiddle.com. 2020. *Mike's Dice Stats | Python Fiddle*. [online] Available at: <http://pythonfiddle.com/mikes-dice-stats/> [Accessed 5 November 2020]."
   ]
  },
  {
   "cell_type": "markdown",
   "metadata": {},
   "source": [
    "[5] Pieters, M., 2020. *Simulating Rolling 2 Dice In Python*. [online] Stack Overflow. Available at: <https://stackoverflow.com/questions/33069476/simulating-rolling-2-dice-in-python> [Accessed 5 November 2020]."
   ]
  },
  {
   "cell_type": "markdown",
   "metadata": {},
   "source": [
    "[6] Lin, S., 2020. *Program That Simulates Rolling A Dice, And Tells You How Many Times You Roll Each Number*. [online] Stack Overflow. Available at: <https://stackoverflow.com/questions/27220489/program-that-simulates-rolling-a-dice-and-tells-you-how-many-times-you-roll-eac> [Accessed 6 November 2020]."
   ]
  },
  {
   "cell_type": "markdown",
   "metadata": {},
   "source": [
    "[7] Hplgit.github.io. 2020. *Random Numbers And Simple Games*. [online] Available at: <http://hplgit.github.io/primer.html/doc/pub/random/._random-readable004.html> [Accessed 6 November 2020]."
   ]
  },
  {
   "cell_type": "markdown",
   "metadata": {},
   "source": [
    "[8] Darklinkdigital.com. 2020. *Python Dice Functions*. [online] Available at: <http://www.darklinkdigital.com/py-dice-functions.html> [Accessed 6 November 2020]."
   ]
  },
  {
   "cell_type": "markdown",
   "metadata": {},
   "source": [
    "[9] Iditect.com. 2020. *Python - Rolled 2 6-Side Die 1000 Times*. [online] Available at: <https://www.iditect.com/how-to/55151873.html> [Accessed 5 November 2020]."
   ]
  },
  {
   "cell_type": "markdown",
   "metadata": {},
   "source": [
    "[10] BBC Bitesize. 2020. *Functions In Python - Procedures And Functions - KS3 Computer Science Revision - BBC Bitesize*. [online] Available at: <https://www.bbc.co.uk/bitesize/guides/zqh49j6/revision/6> [Accessed 5 November 2020]."
   ]
  },
  {
   "cell_type": "markdown",
   "metadata": {},
   "source": [
    "[11] Stack Overflow. 2020. *Rolling 2 Dice 1000 Times And Counting The Number Of Times The Sum Of The Two Dice Hit*. [online] Available at: <https://stackoverflow.com/questions/60343980/rolling-2-dice-1000-times-and-counting-the-number-of-times-the-sum-of-the-two-di> [Accessed 5 November 2020]."
   ]
  },
  {
   "cell_type": "markdown",
   "metadata": {},
   "source": [
    "## Task 3\n",
    "\n",
    "The `numpy.random.binomial` function can be used to simulate flipping a coin with a 50/50 chance of heads or tails. Interestingly, if a coin is flipped many times then the number of heads is well approximated by a bell-shaped curve. For instance, if we flip a coin 100 times in a row the chance of getting 50 heads is relatively high, the chances of getting 0 or 100 heads is relatively low, and the chances of getting any other number of heads decreases as you move away from 50 in either direction towards 0 or 100.\n",
    "\n",
    "Write some python code that simulates flipping a coin 100 times. Then run this code 1,000 times, keeping trackof the number of heads in each of the 1,000 simulations. Select an appropriate plot to depict the resulting list of 1,000 numbers, showing that it roughly follows a bell-shaped curve. You should explain your work in a Markdown cell above the code.\n",
    "\n",
    "---"
   ]
  },
  {
   "cell_type": "code",
   "execution_count": 5,
   "metadata": {
    "ExecuteTime": {
     "end_time": "2020-11-25T11:24:15.238075Z",
     "start_time": "2020-11-25T11:24:13.335389Z"
    }
   },
   "outputs": [
    {
     "name": "stdout",
     "output_type": "stream",
     "text": [
      "[55 43 44 42 60 55 50 50 53 53 50 51 58 55 55 53 40 52 47 54 50 44 57 45\n",
      " 47 47 52 54 53 52 50 62 48 40 48 48 58 52 54 38 45 48 52 55 47 53 46 57\n",
      " 53 45 53 49 54 65 48 51 55 49 54 51 64 46 54 48 52 47 57 46 54 48 53 43\n",
      " 50 36 45 49 57 45 50 50 40 54 49 41 48 52 58 47 54 47 53 50 57 53 41 51\n",
      " 48 62 41 45 53 55 49 56 45 51 52 49 46 47 51 44 42 54 48 53 47 50 42 55\n",
      " 50 51 51 58 40 51 55 50 50 56 47 50 45 55 54 50 47 50 47 59 46 41 50 44\n",
      " 49 54 51 40 47 44 51 55 46 46 45 44 52 52 49 43 52 47 47 44 49 41 42 53\n",
      " 46 53 52 53 40 55 50 56 48 49 50 50 46 45 48 42 51 40 43 53 46 52 58 61\n",
      " 54 53 54 50 47 56 49 48 55 55 50 42 45 37 50 51 48 56 51 50 56 44 52 51\n",
      " 48 49 54 40 56 49 51 45 50 50 55 54 46 44 58 50 60 51 56 44 46 50 47 46\n",
      " 47 45 45 48 48 50 46 48 46 45 49 49 47 41 50 44 44 57 45 45 51 55 53 46\n",
      " 48 49 46 53 59 55 52 45 55 48 51 49 48 52 47 47 63 51 54 46 52 50 46 53\n",
      " 40 46 56 58 48 46 52 50 57 47 47 43 46 47 41 41 53 62 47 54 47 46 45 47\n",
      " 53 46 54 54 54 53 61 45 49 44 47 54 49 49 52 51 50 44 56 56 50 46 46 47\n",
      " 47 45 51 42 51 43 54 45 63 51 45 53 50 50 49 46 50 50 40 47 54 52 54 43\n",
      " 46 43 54 51 50 53 44 46 50 48 55 45 53 46 59 43 43 54 45 47 50 45 53 50\n",
      " 45 53 43 50 46 58 54 47 43 52 41 51 47 46 42 52 44 51 48 50 57 47 53 54\n",
      " 34 53 51 49 46 52 54 48 56 46 55 55 36 53 61 52 40 40 52 51 50 41 46 60\n",
      " 53 45 56 55 49 58 54 49 50 65 50 54 49 53 49 50 47 45 43 43 41 59 47 36\n",
      " 43 52 49 48 57 41 50 56 50 51 52 48 59 51 54 56 48 46 44 48 43 46 42 49\n",
      " 45 57 54 49 49 46 53 51 57 55 54 57 56 42 52 44 53 49 56 44 57 51 47 56\n",
      " 52 48 49 54 44 38 48 55 51 61 53 58 50 49 52 46 57 50 56 53 57 44 44 49\n",
      " 54 60 55 53 51 49 51 49 49 48 56 49 49 49 56 51 54 51 52 47 55 62 44 40\n",
      " 52 46 56 52 41 54 50 57 51 56 45 51 45 46 55 57 38 53 52 53 54 45 52 55\n",
      " 51 54 43 51 52 47 51 48 48 51 59 55 47 43 58 44 51 42 46 48 44 49 51 56\n",
      " 53 53 57 52 47 51 47 46 49 55 50 56 55 59 48 49 52 50 48 47 47 46 47 48\n",
      " 45 51 58 54 53 48 42 54 40 56 51 51 56 47 48 58 51 56 55 52 47 49 51 55\n",
      " 51 56 53 53 51 48 48 60 50 43 46 56 50 46 56 53 49 52 54 46 56 50 50 55\n",
      " 43 41 46 46 51 56 52 51 55 46 52 44 45 41 55 50 52 57 52 52 48 49 57 53\n",
      " 51 49 51 62 45 52 51 47 48 55 43 50 54 58 58 46 52 45 50 56 56 56 47 48\n",
      " 49 46 43 51 50 50 46 45 44 44 49 52 53 54 47 53 50 53 51 56 52 58 45 55\n",
      " 45 66 48 49 51 47 42 47 48 51 44 49 40 43 47 48 58 49 49 53 56 53 49 51\n",
      " 62 48 47 43 56 51 50 51 36 49 48 41 56 46 49 46 47 54 49 52 39 46 52 47\n",
      " 48 51 48 61 50 55 57 52 51 52 64 44 51 52 52 43 54 52 47 55 50 57 48 46\n",
      " 54 52 45 49 38 51 51 44 47 44 52 45 54 54 44 51 46 53 47 53 50 47 51 46\n",
      " 49 56 47 53 51 46 41 49 58 47 53 52 52 56 60 57 55 56 50 50 40 47 56 52\n",
      " 50 55 47 52 44 51 44 46 54 48 45 44 50 58 54 54 53 51 47 55 53 49 52 57\n",
      " 50 42 51 52 47 53 54 47 48 58 54 54 60 56 62 51 49 68 44 49 59 53 49 59\n",
      " 52 48 63 52 51 45 61 56 48 53 43 48 55 61 56 45 57 54 46 40 48 47 47 46\n",
      " 49 48 47 53 54 43 47 48 50 53 48 45 57 54 57 48 58 47 52 45 38 51 48 48\n",
      " 53 48 51 47 55 47 60 54 53 45 41 58 43 56 57 48 52 50 49 48 45 48 51 39\n",
      " 44 48 56 50 43 52 57 52 62 48 55 51 59 55 50 47]\n"
     ]
    }
   ],
   "source": [
    "import numpy as np\n",
    "import seaborn as sns\n",
    "import matplotlib.pyplot as plt\n",
    "%matplotlib inline\n",
    "x = np.random.default_rng().binomial(100, 0.5, 1000)\n",
    "print(x)"
   ]
  },
  {
   "cell_type": "code",
   "execution_count": 6,
   "metadata": {
    "ExecuteTime": {
     "end_time": "2020-11-25T11:24:15.780092Z",
     "start_time": "2020-11-25T11:24:15.241434Z"
    }
   },
   "outputs": [
    {
     "data": {
      "image/png": "[encoded data removed]",
      "text/plain": [
       "<Figure size 684x468 with 1 Axes>"
      ]
     },
     "metadata": {},
     "output_type": "display_data"
    }
   ],
   "source": [
    "# visualisation styling code\n",
    "sns.set(rc={'figure.figsize':(9.5, 6.5)})\n",
    "sns.set_context('notebook')\n",
    "sns.set_style(\"whitegrid\")\n",
    "\n",
    "# \n",
    "sns.distplot(x, kde=True, color='steelblue')\n",
    "plt.xlabel(\"Distribution\", labelpad=15)\n",
    "plt.ylabel(\"Density\", labelpad=15);\n",
    "plt.title(\"Binomial Distribution\", fontsize=15, y=1.012);"
   ]
  },
  {
   "cell_type": "markdown",
   "metadata": {},
   "source": [
    "## 3. References"
   ]
  },
  {
   "cell_type": "markdown",
   "metadata": {},
   "source": [
    "[1] Python and R Tips. 2018. *Simulating Coin Toss Experiment In Python With Numpy - Python And R Tips*. [online] Available at: <https://cmdlinetips.com/2018/12/simulating-coin-toss-experiment-with-binomial-random-numbers-using-numpy/> [Accessed 17 November 2020]."
   ]
  },
  {
   "cell_type": "markdown",
   "metadata": {},
   "source": [
    "[2] Medium. 2019. *How To Code A Fair Coin Flip In Python*. [online] Available at: <https://towardsdatascience.com/how-to-code-a-fair-coin-flip-in-python-d54312f33da9> [Accessed 17 November 2020]."
   ]
  },
  {
   "cell_type": "markdown",
   "metadata": {},
   "source": [
    "Umayanga, T., 2020. *What Is Binomial Distribution And How To Plot It Using Python*. [online] Medium. Available at: <https://medium.com/@tharakau/what-is-binomial-distribution-and-how-to-plot-it-using-python-e9d95bd341ee> [Accessed 17 November 2020]."
   ]
  },
  {
   "cell_type": "code",
   "execution_count": null,
   "metadata": {},
   "outputs": [],
   "source": []
  }
 ],
 "metadata": {
  "kernelspec": {
   "display_name": "Python 3",
   "language": "python",
   "name": "python3"
  },
  "language_info": {
   "codemirror_mode": {
    "name": "ipython",
    "version": 3
   },
   "file_extension": ".py",
   "mimetype": "text/x-python",
   "name": "python",
   "nbconvert_exporter": "python",
   "pygments_lexer": "ipython3",
   "version": "3.8.3"
  },
  "toc": {
   "base_numbering": 1,
   "nav_menu": {},
   "number_sections": false,
   "sideBar": true,
   "skip_h1_title": false,
   "title_cell": "",
   "title_sidebar": "Contents",
   "toc_cell": true,
   "toc_position": {
    "height": "calc(100% - 180px)",
    "left": "10px",
    "top": "150px",
    "width": "243.7px"
   },
   "toc_section_display": true,
   "toc_window_display": true
  }
 },
 "nbformat": 4,
 "nbformat_minor": 4
}
